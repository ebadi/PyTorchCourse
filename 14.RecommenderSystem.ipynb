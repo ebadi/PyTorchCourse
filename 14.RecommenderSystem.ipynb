{
 "cells": [
  {
   "cell_type": "code",
   "execution_count": 1,
   "id": "af5effd1",
   "metadata": {},
   "outputs": [
    {
     "name": "stderr",
     "output_type": "stream",
     "text": [
      "/usr/lib/python3/dist-packages/scipy/__init__.py:146: UserWarning: A NumPy version >=1.17.3 and <1.25.0 is required for this version of SciPy (detected version 1.26.1\n",
      "  warnings.warn(f\"A NumPy version >={np_minversion} and <{np_maxversion}\"\n"
     ]
    }
   ],
   "source": [
    "import torch\n",
    "import torch.nn as nn\n",
    "import torch.nn.functional as F\n",
    "import numpy as np\n",
    "import pandas as pd\n",
    "import matplotlib.pyplot as plt\n",
    "from datetime import datetime\n",
    "from sklearn.utils import shuffle"
   ]
  },
  {
   "cell_type": "code",
   "execution_count": 2,
   "id": "72ab4e86",
   "metadata": {},
   "outputs": [
    {
     "name": "stdout",
     "output_type": "stream",
     "text": [
      "File ‘ml-20m.zip’ already there; not retrieving.\r\n",
      "\r\n"
     ]
    }
   ],
   "source": [
    "!wget -nc https://files.grouplens.org/datasets/movielens/ml-20m.zip"
   ]
  },
  {
   "cell_type": "code",
   "execution_count": 3,
   "id": "33e7b87b",
   "metadata": {},
   "outputs": [
    {
     "name": "stdout",
     "output_type": "stream",
     "text": [
      "File ‘ml-20m.zip’ already there; not retrieving.\r\n",
      "\r\n"
     ]
    }
   ],
   "source": [
    "!wget -nc --no-check-certificate https://files.grouplens.org/datasets/movielens/ml-20m.zip"
   ]
  },
  {
   "cell_type": "code",
   "execution_count": 4,
   "id": "fb633d7e",
   "metadata": {},
   "outputs": [
    {
     "name": "stdout",
     "output_type": "stream",
     "text": [
      "Archive:  ml-20m.zip\r\n"
     ]
    }
   ],
   "source": [
    "!unzip -n ml-20m.zip"
   ]
  },
  {
   "cell_type": "code",
   "execution_count": 5,
   "id": "cb396bdf",
   "metadata": {},
   "outputs": [
    {
     "data": {
      "text/html": [
       "<div>\n",
       "<style scoped>\n",
       "    .dataframe tbody tr th:only-of-type {\n",
       "        vertical-align: middle;\n",
       "    }\n",
       "\n",
       "    .dataframe tbody tr th {\n",
       "        vertical-align: top;\n",
       "    }\n",
       "\n",
       "    .dataframe thead th {\n",
       "        text-align: right;\n",
       "    }\n",
       "</style>\n",
       "<table border=\"1\" class=\"dataframe\">\n",
       "  <thead>\n",
       "    <tr style=\"text-align: right;\">\n",
       "      <th></th>\n",
       "      <th>userId</th>\n",
       "      <th>movieId</th>\n",
       "      <th>rating</th>\n",
       "      <th>timestamp</th>\n",
       "    </tr>\n",
       "  </thead>\n",
       "  <tbody>\n",
       "    <tr>\n",
       "      <th>0</th>\n",
       "      <td>1</td>\n",
       "      <td>2</td>\n",
       "      <td>3.5</td>\n",
       "      <td>1112486027</td>\n",
       "    </tr>\n",
       "    <tr>\n",
       "      <th>1</th>\n",
       "      <td>1</td>\n",
       "      <td>29</td>\n",
       "      <td>3.5</td>\n",
       "      <td>1112484676</td>\n",
       "    </tr>\n",
       "    <tr>\n",
       "      <th>2</th>\n",
       "      <td>1</td>\n",
       "      <td>32</td>\n",
       "      <td>3.5</td>\n",
       "      <td>1112484819</td>\n",
       "    </tr>\n",
       "    <tr>\n",
       "      <th>3</th>\n",
       "      <td>1</td>\n",
       "      <td>47</td>\n",
       "      <td>3.5</td>\n",
       "      <td>1112484727</td>\n",
       "    </tr>\n",
       "    <tr>\n",
       "      <th>4</th>\n",
       "      <td>1</td>\n",
       "      <td>50</td>\n",
       "      <td>3.5</td>\n",
       "      <td>1112484580</td>\n",
       "    </tr>\n",
       "  </tbody>\n",
       "</table>\n",
       "</div>"
      ],
      "text/plain": [
       "   userId  movieId  rating   timestamp\n",
       "0       1        2     3.5  1112486027\n",
       "1       1       29     3.5  1112484676\n",
       "2       1       32     3.5  1112484819\n",
       "3       1       47     3.5  1112484727\n",
       "4       1       50     3.5  1112484580"
      ]
     },
     "execution_count": 5,
     "metadata": {},
     "output_type": "execute_result"
    }
   ],
   "source": [
    "df = pd.read_csv('ml-20m/ratings.csv')\n",
    "df.head()"
   ]
  },
  {
   "cell_type": "code",
   "execution_count": 6,
   "id": "9bce059c",
   "metadata": {},
   "outputs": [],
   "source": [
    "df.userId = pd.Categorical(df.userId)\n",
    "df['new_user_id']= df.userId.cat.codes\n",
    "df.movieId = pd.Categorical(df.movieId)\n",
    "df['new_movie_id']= df.movieId.cat.codes"
   ]
  },
  {
   "cell_type": "code",
   "execution_count": 7,
   "id": "f4977a07",
   "metadata": {},
   "outputs": [
    {
     "data": {
      "text/html": [
       "<div>\n",
       "<style scoped>\n",
       "    .dataframe tbody tr th:only-of-type {\n",
       "        vertical-align: middle;\n",
       "    }\n",
       "\n",
       "    .dataframe tbody tr th {\n",
       "        vertical-align: top;\n",
       "    }\n",
       "\n",
       "    .dataframe thead th {\n",
       "        text-align: right;\n",
       "    }\n",
       "</style>\n",
       "<table border=\"1\" class=\"dataframe\">\n",
       "  <thead>\n",
       "    <tr style=\"text-align: right;\">\n",
       "      <th></th>\n",
       "      <th>userId</th>\n",
       "      <th>movieId</th>\n",
       "      <th>rating</th>\n",
       "      <th>timestamp</th>\n",
       "      <th>new_user_id</th>\n",
       "      <th>new_movie_id</th>\n",
       "    </tr>\n",
       "  </thead>\n",
       "  <tbody>\n",
       "    <tr>\n",
       "      <th>0</th>\n",
       "      <td>1</td>\n",
       "      <td>2</td>\n",
       "      <td>3.5</td>\n",
       "      <td>1112486027</td>\n",
       "      <td>0</td>\n",
       "      <td>1</td>\n",
       "    </tr>\n",
       "    <tr>\n",
       "      <th>1</th>\n",
       "      <td>1</td>\n",
       "      <td>29</td>\n",
       "      <td>3.5</td>\n",
       "      <td>1112484676</td>\n",
       "      <td>0</td>\n",
       "      <td>28</td>\n",
       "    </tr>\n",
       "    <tr>\n",
       "      <th>2</th>\n",
       "      <td>1</td>\n",
       "      <td>32</td>\n",
       "      <td>3.5</td>\n",
       "      <td>1112484819</td>\n",
       "      <td>0</td>\n",
       "      <td>31</td>\n",
       "    </tr>\n",
       "    <tr>\n",
       "      <th>3</th>\n",
       "      <td>1</td>\n",
       "      <td>47</td>\n",
       "      <td>3.5</td>\n",
       "      <td>1112484727</td>\n",
       "      <td>0</td>\n",
       "      <td>46</td>\n",
       "    </tr>\n",
       "    <tr>\n",
       "      <th>4</th>\n",
       "      <td>1</td>\n",
       "      <td>50</td>\n",
       "      <td>3.5</td>\n",
       "      <td>1112484580</td>\n",
       "      <td>0</td>\n",
       "      <td>49</td>\n",
       "    </tr>\n",
       "    <tr>\n",
       "      <th>...</th>\n",
       "      <td>...</td>\n",
       "      <td>...</td>\n",
       "      <td>...</td>\n",
       "      <td>...</td>\n",
       "      <td>...</td>\n",
       "      <td>...</td>\n",
       "    </tr>\n",
       "    <tr>\n",
       "      <th>20000258</th>\n",
       "      <td>138493</td>\n",
       "      <td>68954</td>\n",
       "      <td>4.5</td>\n",
       "      <td>1258126920</td>\n",
       "      <td>138492</td>\n",
       "      <td>13754</td>\n",
       "    </tr>\n",
       "    <tr>\n",
       "      <th>20000259</th>\n",
       "      <td>138493</td>\n",
       "      <td>69526</td>\n",
       "      <td>4.5</td>\n",
       "      <td>1259865108</td>\n",
       "      <td>138492</td>\n",
       "      <td>13862</td>\n",
       "    </tr>\n",
       "    <tr>\n",
       "      <th>20000260</th>\n",
       "      <td>138493</td>\n",
       "      <td>69644</td>\n",
       "      <td>3.0</td>\n",
       "      <td>1260209457</td>\n",
       "      <td>138492</td>\n",
       "      <td>13875</td>\n",
       "    </tr>\n",
       "    <tr>\n",
       "      <th>20000261</th>\n",
       "      <td>138493</td>\n",
       "      <td>70286</td>\n",
       "      <td>5.0</td>\n",
       "      <td>1258126944</td>\n",
       "      <td>138492</td>\n",
       "      <td>13993</td>\n",
       "    </tr>\n",
       "    <tr>\n",
       "      <th>20000262</th>\n",
       "      <td>138493</td>\n",
       "      <td>71619</td>\n",
       "      <td>2.5</td>\n",
       "      <td>1255811136</td>\n",
       "      <td>138492</td>\n",
       "      <td>14277</td>\n",
       "    </tr>\n",
       "  </tbody>\n",
       "</table>\n",
       "<p>20000263 rows × 6 columns</p>\n",
       "</div>"
      ],
      "text/plain": [
       "          userId movieId  rating   timestamp  new_user_id  new_movie_id\n",
       "0              1       2     3.5  1112486027            0             1\n",
       "1              1      29     3.5  1112484676            0            28\n",
       "2              1      32     3.5  1112484819            0            31\n",
       "3              1      47     3.5  1112484727            0            46\n",
       "4              1      50     3.5  1112484580            0            49\n",
       "...          ...     ...     ...         ...          ...           ...\n",
       "20000258  138493   68954     4.5  1258126920       138492         13754\n",
       "20000259  138493   69526     4.5  1259865108       138492         13862\n",
       "20000260  138493   69644     3.0  1260209457       138492         13875\n",
       "20000261  138493   70286     5.0  1258126944       138492         13993\n",
       "20000262  138493   71619     2.5  1255811136       138492         14277\n",
       "\n",
       "[20000263 rows x 6 columns]"
      ]
     },
     "execution_count": 7,
     "metadata": {},
     "output_type": "execute_result"
    }
   ],
   "source": [
    "df"
   ]
  },
  {
   "cell_type": "code",
   "execution_count": 8,
   "id": "db73662b",
   "metadata": {},
   "outputs": [],
   "source": [
    "user_ids = df['new_user_id'].values\n",
    "movie_ids = df['new_movie_id'].values\n",
    "ratings = df['rating'].values - 2.5\n",
    "\n",
    "N = len(set(user_ids))\n",
    "M = len(set(movie_ids))\n",
    "\n",
    "D =10 # What does this value shows?"
   ]
  },
  {
   "cell_type": "code",
   "execution_count": 9,
   "id": "0e34cc0b",
   "metadata": {},
   "outputs": [
    {
     "data": {
      "text/plain": [
       "array([     0,      0,      0, ..., 138492, 138492, 138492], dtype=int32)"
      ]
     },
     "execution_count": 9,
     "metadata": {},
     "output_type": "execute_result"
    }
   ],
   "source": [
    "user_ids"
   ]
  },
  {
   "cell_type": "code",
   "execution_count": 10,
   "id": "ac6fc157",
   "metadata": {},
   "outputs": [
    {
     "data": {
      "text/plain": [
       "array([    1,    28,    31, ..., 13875, 13993, 14277], dtype=int16)"
      ]
     },
     "execution_count": 10,
     "metadata": {},
     "output_type": "execute_result"
    }
   ],
   "source": [
    "movie_ids"
   ]
  },
  {
   "cell_type": "code",
   "execution_count": 11,
   "id": "8809695b",
   "metadata": {},
   "outputs": [
    {
     "data": {
      "text/plain": [
       "array([1. , 1. , 1. , ..., 0.5, 2.5, 0. ])"
      ]
     },
     "execution_count": 11,
     "metadata": {},
     "output_type": "execute_result"
    }
   ],
   "source": [
    "ratings"
   ]
  },
  {
   "cell_type": "code",
   "execution_count": 12,
   "id": "70386a35",
   "metadata": {},
   "outputs": [],
   "source": [
    "class Model(nn.Module):\n",
    "    def __init__(self, n_users, n_items, embed_dim, n_hidden=1024):\n",
    "        super(Model, self).__init__()\n",
    "        self.N = n_users\n",
    "        self.M = n_items\n",
    "        self.D = embed_dim\n",
    "        self.u_emb = nn.Embedding(self.N, self.D)\n",
    "        self.m_emb = nn.Embedding(self.M, self.D)\n",
    "        self.fc1 = nn.Linear(2*self.D, n_hidden)\n",
    "        self.fc2 = nn.Linear(n_hidden, 1)\n",
    "        \n",
    "        # initial the weights since N(0,1) leas to poor results\n",
    "        self.u_emb.weight.data= nn.Parameter(torch.Tensor(np.random.randn(self.N, self.D) * 0.01))\n",
    "        self.m_emb.weight.data= nn.Parameter(torch.Tensor(np.random.randn(self.M, self.D) * 0.01))\n",
    "        \n",
    "    def forward(self, u, m):\n",
    "        u = self.u_emb(u)\n",
    "        m = self.m_emb(m)\n",
    "        out = torch.cat((u,m), 1)\n",
    "        \n",
    "        out = self.fc1(out)\n",
    "        out = F.relu(out)\n",
    "        out = self.fc2(out)\n",
    "        return out"
   ]
  },
  {
   "cell_type": "code",
   "execution_count": 13,
   "id": "b677a27d",
   "metadata": {},
   "outputs": [
    {
     "name": "stdout",
     "output_type": "stream",
     "text": [
      "cuda:0\n"
     ]
    }
   ],
   "source": [
    "device = torch.device(\"cuda:0\" if torch.cuda.is_available() else \"cpu\")\n",
    "print(device)"
   ]
  },
  {
   "cell_type": "code",
   "execution_count": 14,
   "id": "c87f7ca5",
   "metadata": {},
   "outputs": [
    {
     "data": {
      "text/plain": [
       "Model(\n",
       "  (u_emb): Embedding(138493, 10)\n",
       "  (m_emb): Embedding(26744, 10)\n",
       "  (fc1): Linear(in_features=20, out_features=1024, bias=True)\n",
       "  (fc2): Linear(in_features=1024, out_features=1, bias=True)\n",
       ")"
      ]
     },
     "execution_count": 14,
     "metadata": {},
     "output_type": "execute_result"
    }
   ],
   "source": [
    "model = Model(N, M, D)\n",
    "model.to(device)"
   ]
  },
  {
   "cell_type": "code",
   "execution_count": 15,
   "id": "23341a49",
   "metadata": {},
   "outputs": [],
   "source": [
    "criterion = nn.MSELoss()\n",
    "optimizer = torch.optim.Adam(model.parameters(), lr = 0.08, momentum = 0.9) "
   ]
  },
  {
   "cell_type": "code",
   "execution_count": 16,
   "id": "1a0c4384",
   "metadata": {},
   "outputs": [],
   "source": [
    "user_ids, movie_ids, ratings = shuffle(user_ids, movie_ids, ratings)"
   ]
  },
  {
   "cell_type": "code",
   "execution_count": 17,
   "id": "4e88ce1b",
   "metadata": {},
   "outputs": [
    {
     "data": {
      "text/plain": [
       "(array([53444, 63780, 20754, ..., 86217, 98780, 64100], dtype=int32),\n",
       " array([ 1159, 22016,  4073, ...,  4821, 12328,  3663], dtype=int16),\n",
       " array([-1.5,  2. ,  1.5, ...,  1.5,  0.5,  1. ]))"
      ]
     },
     "execution_count": 17,
     "metadata": {},
     "output_type": "execute_result"
    }
   ],
   "source": [
    "user_ids, movie_ids, ratings"
   ]
  },
  {
   "cell_type": "code",
   "execution_count": 18,
   "id": "e788c55b",
   "metadata": {},
   "outputs": [],
   "source": [
    "user_ids_t = torch.from_numpy(user_ids).long()\n",
    "movie_ids_t = torch.from_numpy(movie_ids).long()\n",
    "ratings_t = torch.from_numpy(ratings).long()"
   ]
  },
  {
   "cell_type": "code",
   "execution_count": 19,
   "id": "7f081bca",
   "metadata": {},
   "outputs": [],
   "source": [
    "Ntrain = int(0.8 * len(ratings))\n",
    "train_dataset = torch.utils.data.TensorDataset(\n",
    "    user_ids_t[:Ntrain],\n",
    "    movie_ids_t[:Ntrain],\n",
    "    ratings_t[:Ntrain],\n",
    ")\n",
    "test_dataset = torch.utils.data.TensorDataset(\n",
    "    user_ids_t[Ntrain:],\n",
    "    movie_ids_t[Ntrain:],\n",
    "    ratings_t[Ntrain:],\n",
    ")"
   ]
  },
  {
   "cell_type": "code",
   "execution_count": 20,
   "id": "54c51422",
   "metadata": {},
   "outputs": [],
   "source": [
    "batch_size = 512\n",
    "\n",
    "train_loader = torch.utils.data.DataLoader(dataset=train_dataset, batch_size=batch_size, shuffle=True)\n",
    "test_loader = torch.utils.data.DataLoader(dataset=test_dataset, batch_size=batch_size, shuffle=False)"
   ]
  },
  {
   "cell_type": "code",
   "execution_count": 21,
   "id": "78cf08fd",
   "metadata": {},
   "outputs": [
    {
     "name": "stdout",
     "output_type": "stream",
     "text": [
      "Epoch 1/25, Train Loss 0.5542, Test Loss 0.5571\n",
      "Epoch 2/25, Train Loss 0.5353, Test Loss 0.5490\n",
      "Epoch 3/25, Train Loss 0.5364, Test Loss 0.5427\n",
      "Epoch 4/25, Train Loss 0.5340, Test Loss 0.5359\n",
      "Epoch 5/25, Train Loss 0.5173, Test Loss 0.5287\n",
      "Epoch 6/25, Train Loss 0.5124, Test Loss 0.5252\n",
      "Epoch 7/25, Train Loss 0.4984, Test Loss 0.5218\n",
      "Epoch 8/25, Train Loss 0.5062, Test Loss 0.5206\n",
      "Epoch 9/25, Train Loss 0.5122, Test Loss 0.5202\n",
      "Epoch 10/25, Train Loss 0.5000, Test Loss 0.5182\n",
      "Epoch 11/25, Train Loss 0.5049, Test Loss 0.5198\n",
      "Epoch 12/25, Train Loss 0.5110, Test Loss 0.5190\n",
      "Epoch 13/25, Train Loss 0.4898, Test Loss 0.5169\n",
      "Epoch 14/25, Train Loss 0.5005, Test Loss 0.5160\n",
      "Epoch 15/25, Train Loss 0.4960, Test Loss 0.5161\n",
      "Epoch 16/25, Train Loss 0.4995, Test Loss 0.5163\n",
      "Epoch 17/25, Train Loss 0.5010, Test Loss 0.5156\n",
      "Epoch 18/25, Train Loss 0.4984, Test Loss 0.5157\n",
      "Epoch 19/25, Train Loss 0.4918, Test Loss 0.5155\n",
      "Epoch 20/25, Train Loss 0.4992, Test Loss 0.5158\n",
      "Epoch 21/25, Train Loss 0.5088, Test Loss 0.5156\n",
      "Epoch 22/25, Train Loss 0.4953, Test Loss 0.5163\n",
      "Epoch 23/25, Train Loss 0.5049, Test Loss 0.5152\n",
      "Epoch 24/25, Train Loss 0.5007, Test Loss 0.5159\n",
      "Epoch 25/25, Train Loss 0.5010, Test Loss 0.5167\n",
      " "
     ]
    }
   ],
   "source": [
    "def batch_gd(model, criterion, optimizer, n_epochs = 200 ):\n",
    "    train_losses = np.zeros(n_epochs)\n",
    "    test_losses = np.zeros(n_epochs)\n",
    "    for it in range(n_epochs):\n",
    "        train_loss = []\n",
    "        for users, movies, targets in train_loader:\n",
    "            targets = targets.view(-1,1).float()\n",
    "            users, movies, targets = users.to(device), movies.to(device), targets.to(device)\n",
    "            optimizer.zero_grad()\n",
    "            outputs = model(users, movies)\n",
    "            loss = criterion(outputs, targets)\n",
    "            loss.backward()\n",
    "            optimizer.step()\n",
    "            train_loss.append(loss.item())\n",
    "        train_loss = np.mean(train_loss)\n",
    "\n",
    "        \n",
    "        test_loss = []\n",
    "        for users, movies, targets in test_loader:\n",
    "            users, movies, targets = users.to(device), movies.to(device), targets.to(device)\n",
    "            targets = targets.view(-1,1).float()\n",
    "            outputs = model(users, movies)\n",
    "            loss = criterion(outputs, targets)\n",
    "            test_loss.append(loss.item())\n",
    "        test_loss = np.mean(test_loss)\n",
    "        \n",
    "        train_losses[it] = train_loss\n",
    "        test_losses[it] = test_loss\n",
    "        if (it +1) %1 == 0:\n",
    "            print(f'Epoch {it+1}/{n_epochs}, Train Loss {loss.item():.4f}, Test Loss {test_loss.item():.4f}')\n",
    "    return train_losses, test_losses\n",
    "\n",
    "%prun train_losses, test_losses = batch_gd(model, criterion, optimizer, 25)"
   ]
  },
  {
   "cell_type": "code",
   "execution_count": 22,
   "id": "3ec7751b",
   "metadata": {},
   "outputs": [
    {
     "data": {
      "image/png": "[encoded data removed]",
      "text/plain": [
       "<Figure size 640x480 with 1 Axes>"
      ]
     },
     "metadata": {},
     "output_type": "display_data"
    }
   ],
   "source": [
    "plt.plot(train_losses, label='train loss')\n",
    "plt.plot(test_losses, label='test loss')\n",
    "plt.legend()\n",
    "plt.show()"
   ]
  },
  {
   "cell_type": "code",
   "execution_count": 34,
   "id": "6b3f0176",
   "metadata": {},
   "outputs": [],
   "source": [
    "watched_movie_ids = df[df.new_user_id ==1].new_movie_id.values"
   ]
  },
  {
   "cell_type": "code",
   "execution_count": 49,
   "id": "2b756fbe",
   "metadata": {},
   "outputs": [
    {
     "data": {
      "text/plain": [
       "array([   2,   61,   69,  108,  239,  257,  263,  465,  476,  537,  583,\n",
       "        874,  891,  907, 1098, 1171, 1184, 1188, 1221, 1231, 1242, 1298,\n",
       "       1326, 1494, 1528, 1616, 1684, 1881, 1885, 1886, 1887, 1888, 1889,\n",
       "       1890, 1902, 2206, 2369, 2370, 2705, 2772, 2862, 2865, 3063, 3072,\n",
       "       3086, 3361, 3423, 3443, 3464, 3474, 3612, 3662, 3824, 3825, 3830,\n",
       "       3833, 3834, 3835, 3837, 3843, 3865], dtype=int16)"
      ]
     },
     "execution_count": 49,
     "metadata": {},
     "output_type": "execute_result"
    }
   ],
   "source": [
    "watched_movie_ids"
   ]
  },
  {
   "cell_type": "code",
   "execution_count": 50,
   "id": "34fa3b01",
   "metadata": {},
   "outputs": [],
   "source": [
    "potential_movie_ids = df[~df.new_movie_id.isin(watched_movie_ids)].new_movie_id.unique()"
   ]
  },
  {
   "cell_type": "code",
   "execution_count": 51,
   "id": "a315fe0e",
   "metadata": {},
   "outputs": [
    {
     "data": {
      "text/plain": [
       "(26683,)"
      ]
     },
     "execution_count": 51,
     "metadata": {},
     "output_type": "execute_result"
    }
   ],
   "source": [
    "potential_movie_ids.shape"
   ]
  },
  {
   "cell_type": "code",
   "execution_count": 52,
   "id": "cecba30e",
   "metadata": {},
   "outputs": [
    {
     "data": {
      "text/plain": [
       "26683"
      ]
     },
     "execution_count": 52,
     "metadata": {},
     "output_type": "execute_result"
    }
   ],
   "source": [
    "len(set(potential_movie_ids))"
   ]
  },
  {
   "cell_type": "code",
   "execution_count": 53,
   "id": "5afb934f",
   "metadata": {},
   "outputs": [
    {
     "name": "stdout",
     "output_type": "stream",
     "text": [
      "tensor([[0.9739],\n",
      "        [1.1697],\n",
      "        [1.3033],\n",
      "        ...,\n",
      "        [1.2656],\n",
      "        [1.4488],\n",
      "        [1.3953]], device='cuda:0')\n"
     ]
    },
    {
     "data": {
      "text/plain": [
       "array([0.9739217, 1.1696584, 1.3032501, ..., 1.2656298, 1.4488077,\n",
       "       1.395253 ], dtype=float32)"
      ]
     },
     "execution_count": 53,
     "metadata": {},
     "output_type": "execute_result"
    }
   ],
   "source": [
    "user_id_to_recommend = np.ones_like(potential_movie_ids)\n",
    "# array([1, 1, 1, ..., 1, 1, 1], dtype=int16)\n",
    "## If we want to do prediction for use 2, we have to multiply all elements to 2:\n",
    "# array([2, 2, 2, ..., 2, 2, 2], dtype=int16)\n",
    "t_user_ids = torch.from_numpy(user_id_to_recommend).long().to(device)\n",
    "t_movie_ids = torch.from_numpy(potential_movie_ids).long().to(device)\n",
    "with torch.no_grad():\n",
    "  predictions = model(t_user_ids, t_movie_ids)\n",
    "\n",
    "print(predictions)\n",
    "predictions_np = predictions.cpu().numpy().flatten()\n",
    "sort_idx = np.argsort(-predictions_np)\n",
    "predictions_np\n"
   ]
  },
  {
   "cell_type": "code",
   "execution_count": 45,
   "id": "c55ace88",
   "metadata": {},
   "outputs": [
    {
     "data": {
      "text/plain": [
       "array([19118, 17628,  2589, ...,  6978,  8994, 13520])"
      ]
     },
     "execution_count": 45,
     "metadata": {},
     "output_type": "execute_result"
    }
   ],
   "source": [
    "sort_idx"
   ]
  },
  {
   "cell_type": "code",
   "execution_count": 46,
   "id": "00a3a085",
   "metadata": {},
   "outputs": [
    {
     "name": "stdout",
     "output_type": "stream",
     "text": [
      "movie: 18828 score: 2.145982\n",
      "movie: 21498 score: 2.1166813\n",
      "movie: 18484 score: 2.0079632\n",
      "movie: 12281 score: 2.001104\n",
      "movie: 24660 score: 1.9752045\n",
      "movie: 24223 score: 1.9620216\n",
      "movie: 16235 score: 1.9517877\n",
      "movie: 22369 score: 1.9456043\n",
      "movie: 6666 score: 1.9390287\n",
      "movie: 14750 score: 1.938972\n"
     ]
    }
   ],
   "source": [
    "top_10_movie_ids = potential_movie_ids[sort_idx[:10]]\n",
    "top_10_scores = predictions_np[sort_idx[:10]]\n",
    "\n",
    "for movie, score in zip(top_10_movie_ids, top_10_scores):\n",
    "  print(\"movie:\", movie, \"score:\", score)"
   ]
  },
  {
   "cell_type": "code",
   "execution_count": 47,
   "id": "e6639ad7",
   "metadata": {},
   "outputs": [
    {
     "data": {
      "text/plain": [
       "array([1, 1, 1, ..., 1, 1, 1], dtype=int16)"
      ]
     },
     "execution_count": 47,
     "metadata": {},
     "output_type": "execute_result"
    }
   ],
   "source": [
    "user_id_to_recommend"
   ]
  },
  {
   "cell_type": "code",
   "execution_count": 48,
   "id": "0975ca88",
   "metadata": {},
   "outputs": [
    {
     "data": {
      "text/plain": [
       "26683"
      ]
     },
     "execution_count": 48,
     "metadata": {},
     "output_type": "execute_result"
    }
   ],
   "source": [
    "len(user_id_to_recommend)"
   ]
  },
  {
   "cell_type": "code",
   "execution_count": null,
   "id": "2b6deb62",
   "metadata": {},
   "outputs": [],
   "source": []
  }
 ],
 "metadata": {
  "kernelspec": {
   "display_name": "Python 3 (ipykernel)",
   "language": "python",
   "name": "python3"
  },
  "language_info": {
   "codemirror_mode": {
    "name": "ipython",
    "version": 3
   },
   "file_extension": ".py",
   "mimetype": "text/x-python",
   "name": "python",
   "nbconvert_exporter": "python",
   "pygments_lexer": "ipython3",
   "version": "3.10.12"
  }
 },
 "nbformat": 4,
 "nbformat_minor": 5
}
