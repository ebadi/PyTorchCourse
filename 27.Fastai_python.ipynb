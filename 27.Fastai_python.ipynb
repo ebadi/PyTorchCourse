{
  "nbformat": 4,
  "nbformat_minor": 0,
  "metadata": {
    "colab": {
      "provenance": []
    },
    "kernelspec": {
      "name": "python3",
      "display_name": "Python 3"
    },
    "language_info": {
      "name": "python"
    },
    "widgets": {
      "application/vnd.jupyter.widget-state+json": {
        "a71220dbd131421faba23f00dd28d2ca": {
          "model_module": "@jupyter-widgets/controls",
          "model_name": "ButtonModel",
          "model_module_version": "1.5.0",
          "state": {
            "_dom_classes": [],
            "_model_module": "@jupyter-widgets/controls",
            "_model_module_version": "1.5.0",
            "_model_name": "ButtonModel",
            "_view_count": null,
            "_view_module": "@jupyter-widgets/controls",
            "_view_module_version": "1.5.0",
            "_view_name": "ButtonView",
            "button_style": "",
            "description": "Click me",
            "disabled": false,
            "icon": "",
            "layout": "IPY_MODEL_38b0d44e5ef44aef94a2e262021f2e21",
            "style": "IPY_MODEL_f7700a7e9da4400ca3cc14dc0fb44cb0",
            "tooltip": ""
          }
        },
        "38b0d44e5ef44aef94a2e262021f2e21": {
          "model_module": "@jupyter-widgets/base",
          "model_name": "LayoutModel",
          "model_module_version": "1.2.0",
          "state": {
            "_model_module": "@jupyter-widgets/base",
            "_model_module_version": "1.2.0",
            "_model_name": "LayoutModel",
            "_view_count": null,
            "_view_module": "@jupyter-widgets/base",
            "_view_module_version": "1.2.0",
            "_view_name": "LayoutView",
            "align_content": null,
            "align_items": null,
            "align_self": null,
            "border": null,
            "bottom": null,
            "display": null,
            "flex": null,
            "flex_flow": null,
            "grid_area": null,
            "grid_auto_columns": null,
            "grid_auto_flow": null,
            "grid_auto_rows": null,
            "grid_column": null,
            "grid_gap": null,
            "grid_row": null,
            "grid_template_areas": null,
            "grid_template_columns": null,
            "grid_template_rows": null,
            "height": null,
            "justify_content": null,
            "justify_items": null,
            "left": null,
            "margin": null,
            "max_height": null,
            "max_width": null,
            "min_height": null,
            "min_width": null,
            "object_fit": null,
            "object_position": null,
            "order": null,
            "overflow": null,
            "overflow_x": null,
            "overflow_y": null,
            "padding": null,
            "right": null,
            "top": null,
            "visibility": null,
            "width": null
          }
        },
        "f7700a7e9da4400ca3cc14dc0fb44cb0": {
          "model_module": "@jupyter-widgets/controls",
          "model_name": "ButtonStyleModel",
          "model_module_version": "1.5.0",
          "state": {
            "_model_module": "@jupyter-widgets/controls",
            "_model_module_version": "1.5.0",
            "_model_name": "ButtonStyleModel",
            "_view_count": null,
            "_view_module": "@jupyter-widgets/base",
            "_view_module_version": "1.2.0",
            "_view_name": "StyleView",
            "button_color": null,
            "font_weight": ""
          }
        }
      }
    }
  },
  "cells": [
    {
      "cell_type": "markdown",
      "source": [
        "## Debugging\n"
      ],
      "metadata": {
        "id": "yRLRigeyhDER"
      }
    },
    {
      "cell_type": "code",
      "source": [
        "import pdb ; pdb.set_trace()"
      ],
      "metadata": {
        "id": "gULwGpjag6P5"
      },
      "execution_count": 1,
      "outputs": []
    },
    {
      "cell_type": "markdown",
      "source": [
        "## Widgets"
      ],
      "metadata": {
        "id": "GMbZwB2mhGpo"
      }
    },
    {
      "cell_type": "code",
      "execution_count": null,
      "metadata": {
        "id": "IKKOAAN_Mbht"
      },
      "outputs": [],
      "source": [
        "# Callbacks, events\n",
        "import ipywidgets as widgets\n",
        "w = widgets.Button(description='Click me')"
      ]
    },
    {
      "cell_type": "code",
      "source": [
        "w"
      ],
      "metadata": {
        "colab": {
          "base_uri": "https://localhost:8080/",
          "height": 153,
          "referenced_widgets": [
            "a71220dbd131421faba23f00dd28d2ca",
            "38b0d44e5ef44aef94a2e262021f2e21",
            "f7700a7e9da4400ca3cc14dc0fb44cb0"
          ]
        },
        "id": "a8sSS5TKMsZL",
        "outputId": "1aa3d58e-51e7-40e8-e3ff-f4ae05aa60da"
      },
      "execution_count": null,
      "outputs": [
        {
          "output_type": "display_data",
          "data": {
            "text/plain": [
              "Button(description='Click me', style=ButtonStyle())"
            ],
            "application/vnd.jupyter.widget-view+json": {
              "version_major": 2,
              "version_minor": 0,
              "model_id": "a71220dbd131421faba23f00dd28d2ca"
            }
          },
          "metadata": {}
        },
        {
          "output_type": "stream",
          "name": "stdout",
          "text": [
            "hi Button(description='Click me', style=ButtonStyle())\n",
            "hi Button(description='Click me', style=ButtonStyle())\n",
            "hi Button(description='Click me', style=ButtonStyle())\n",
            "hi Button(description='Click me', style=ButtonStyle())\n",
            "hi Button(description='Click me', style=ButtonStyle())\n",
            "hi Button(description='Click me', style=ButtonStyle())\n"
          ]
        }
      ]
    },
    {
      "cell_type": "code",
      "source": [
        "def f(x) : print('hi', x)\n",
        "w.on_click(f)"
      ],
      "metadata": {
        "id": "DNjHxnM7M2Hd"
      },
      "execution_count": null,
      "outputs": []
    },
    {
      "cell_type": "markdown",
      "source": [
        "## Dunder thingies"
      ],
      "metadata": {
        "id": "pSXgHYklQeth"
      }
    },
    {
      "cell_type": "code",
      "source": [
        "class Test():\n",
        "    def __init__(self, x):\n",
        "      self.x = x\n",
        "    def __call__(self):\n",
        "      pass\n",
        "    def __setattr__(self,k,v):\n",
        "      if not k.startswith(\"_\"): self._modules[k] = v\n",
        "      super().__setattr__(k,v)\n",
        "    def __repr__(self): return f'{self.x}'\n",
        "    def __len__(self): return len(self.x)\n",
        "    def __add__(self,b ): return self.x + b.x\n",
        "    def __getitem__(self, i): return self.x[i]"
      ],
      "metadata": {
        "id": "8v2f5Fa0ODWR"
      },
      "execution_count": null,
      "outputs": []
    },
    {
      "cell_type": "markdown",
      "source": [
        "### * args\n",
        "Arguments that are passed by position placed in args\n",
        "### ** kwargs\n",
        "Dictionaries that has arguments by name\n"
      ],
      "metadata": {
        "id": "9CHc5sXYPiOx"
      }
    },
    {
      "cell_type": "code",
      "source": [
        "def f(*a, **b): print(f\"args: {a}; kwargs: {b}\")\n",
        "f(3, 'a', thing1=\"hello\")\n"
      ],
      "metadata": {
        "colab": {
          "base_uri": "https://localhost:8080/"
        },
        "id": "4ZgGJStRPcgn",
        "outputId": "a9dd9e77-28fc-492d-bc7e-ddf05747b3b7"
      },
      "execution_count": null,
      "outputs": [
        {
          "output_type": "stream",
          "name": "stdout",
          "text": [
            "args: (3, 'a'); kwargs: {'thing1': 'hello'}\n"
          ]
        }
      ]
    },
    {
      "cell_type": "code",
      "source": [
        "from functools import partial"
      ],
      "metadata": {
        "id": "UikfjiYUPapl"
      },
      "execution_count": null,
      "outputs": []
    },
    {
      "cell_type": "markdown",
      "source": [
        "## Decorator\n",
        "\n",
        "```\n",
        "@with_cbs('fit')\n",
        "    def _fit(self, train, valid):\n",
        "      pass\n",
        "```\n",
        "- call `__init__` with `nm` parameter ( here `fit` string)\n",
        "- call `__call__` with `f` which the `fit()` function itself"
      ],
      "metadata": {
        "id": "Nh2bLzXIgPrP"
      }
    },
    {
      "cell_type": "code",
      "source": [],
      "metadata": {
        "id": "MFc0uEM8g4rP"
      },
      "execution_count": null,
      "outputs": []
    },
    {
      "cell_type": "code",
      "source": [
        "class with_cbs:\n",
        "    def __init__(self, nm): self.nm = nm\n",
        "    def __call__(self, f):\n",
        "        def _f(o, *args, **kwargs):\n",
        "            try:\n",
        "                o.callback(f'before_{self.nm}')\n",
        "                f(o, *args, **kwargs)\n",
        "                o.callback(f'after_{self.nm}')\n",
        "            except globals()[f'Cancel{self.nm.title()}Exception']: pass\n",
        "            finally: o.callback(f'cleanup_{self.nm}')\n",
        "        return _f"
      ],
      "metadata": {
        "id": "PSxF-K9UfrMz"
      },
      "execution_count": null,
      "outputs": []
    }
  ]
}