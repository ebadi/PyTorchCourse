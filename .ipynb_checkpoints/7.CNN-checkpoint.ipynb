{
 "cells": [
  {
   "cell_type": "markdown",
   "metadata": {
    "id": "nfEwK45m5hwp"
   },
   "source": [
    "Filter (kernel) = * = convelotion = Feature transformation\n",
    "\n",
    "Use case: bluurring, edge detection\n",
    "\n",
    "convolution = corss corrolation\n",
    "\n",
    "padding with zero since it has no effect in the result of convolution filter\n",
    "\n",
    "\n",
    "dot product is a correlation matrix -> filters are pattern finding matrix\n",
    "cosine similarity of two vector  a.b / |a||b|\n",
    "Pearson corollation\n",
    "\n",
    "**Translational invarience** > no need to learn a cat in a new location using convolution filter\n",
    "\n",
    "Convolution can be implemented as a matrix multiplication but we don't implement it this way. We do opposite, we try to do more convolution which is small and fast instead of matrix multiplication that is big and slow. This is the idea **behind parameter and weight sharing**.\n",
    "\n",
    "Conv layer = sigma(W * x + b)\n",
    "Dense layer= sigma(W^T x + b)\n",
    "\n",
    "3d dot product between color image and to avoid breaking uniformality (3d image . 3d filter = 2d image) . So we stack multiple conv filter sequentially.\n",
    "\n",
    "**feature map**: 2d filters are like a map to find features\n",
    "\n",
    "**LeNet**: the origin of modern conv networks\n",
    "\n",
    "**Pooling layer** : downsampling\n",
    "- max pooling\n",
    "- average pooling\n",
    "\n",
    "(choosing which to choose is hyper parameter)\n",
    "\n",
    "Pooling can be non-square and can have overlap (**stride** tell us how far each window should be, how much to skip)!\n",
    "\n",
    "Output of conv layer: H * W * C (C is the number of feature maps )\n",
    "\n",
    "**Global/average max pooling layer** : making images the same size\n",
    "\n",
    "num channels ~ num feature maps\n",
    "\n",
    "6. CNN Code Preparation (part 1)\n",
    "\n",
    "nn.conv2D :\n",
    "C1, W, H, C2 : filter/kernel : #input, kernel_width, kernel_height, #output\n",
    "chanenl  = feature map\n",
    "kernel w, h = 3 (usually)\n",
    "stride: step sze\n",
    "\n",
    "Why conv2 and conv1d,conv3d when images are 3d? No! color is not a spatial dimension\n",
    "\n",
    "Layer ~ Module in pytorch\n",
    "\n",
    "**Dropout regularization** : by randomly dropinh node during training, make the output not totatlly depends on any single outputs. Can be introduced as a layer between dense layer.\n",
    "\n",
    "Two common datasets:\n",
    "- MNIST fashion\n",
    "- CIFAR-10 objects\n",
    "\n",
    "data augmentation: make more data from the data\n",
    "\n"
   ]
  },
  {
   "cell_type": "code",
   "execution_count": null,
   "metadata": {
    "colab": {
     "base_uri": "https://localhost:8080/"
    },
    "executionInfo": {
     "elapsed": 31676,
     "status": "ok",
     "timestamp": 1718608410202,
     "user": {
      "displayName": "H E",
      "userId": "09638530622080517813"
     },
     "user_tz": -120
    },
    "id": "qfU2zySnxjFA",
    "outputId": "b9b69485-5c04-477c-a405-be2bc770d548"
   },
   "outputs": [
    {
     "name": "stdout",
     "output_type": "stream",
     "text": [
      "Downloading http://fashion-mnist.s3-website.eu-central-1.amazonaws.com/train-images-idx3-ubyte.gz\n",
      "Downloading http://fashion-mnist.s3-website.eu-central-1.amazonaws.com/train-images-idx3-ubyte.gz to ./FashionMNIST/raw/train-images-idx3-ubyte.gz\n"
     ]
    },
    {
     "name": "stderr",
     "output_type": "stream",
     "text": [
      "100%|██████████| 26421880/26421880 [00:08<00:00, 3250990.43it/s] \n"
     ]
    },
    {
     "name": "stdout",
     "output_type": "stream",
     "text": [
      "Extracting ./FashionMNIST/raw/train-images-idx3-ubyte.gz to ./FashionMNIST/raw\n",
      "\n",
      "Downloading http://fashion-mnist.s3-website.eu-central-1.amazonaws.com/train-labels-idx1-ubyte.gz\n",
      "Downloading http://fashion-mnist.s3-website.eu-central-1.amazonaws.com/train-labels-idx1-ubyte.gz to ./FashionMNIST/raw/train-labels-idx1-ubyte.gz\n"
     ]
    },
    {
     "name": "stderr",
     "output_type": "stream",
     "text": [
      "100%|██████████| 29515/29515 [00:00<00:00, 305293.24it/s]\n"
     ]
    },
    {
     "name": "stdout",
     "output_type": "stream",
     "text": [
      "Extracting ./FashionMNIST/raw/train-labels-idx1-ubyte.gz to ./FashionMNIST/raw\n",
      "\n",
      "Downloading http://fashion-mnist.s3-website.eu-central-1.amazonaws.com/t10k-images-idx3-ubyte.gz\n",
      "Downloading http://fashion-mnist.s3-website.eu-central-1.amazonaws.com/t10k-images-idx3-ubyte.gz to ./FashionMNIST/raw/t10k-images-idx3-ubyte.gz\n"
     ]
    },
    {
     "name": "stderr",
     "output_type": "stream",
     "text": [
      "100%|██████████| 4422102/4422102 [00:04<00:00, 979649.08it/s] \n"
     ]
    },
    {
     "name": "stdout",
     "output_type": "stream",
     "text": [
      "Extracting ./FashionMNIST/raw/t10k-images-idx3-ubyte.gz to ./FashionMNIST/raw\n",
      "\n",
      "Downloading http://fashion-mnist.s3-website.eu-central-1.amazonaws.com/t10k-labels-idx1-ubyte.gz\n",
      "Downloading http://fashion-mnist.s3-website.eu-central-1.amazonaws.com/t10k-labels-idx1-ubyte.gz to ./FashionMNIST/raw/t10k-labels-idx1-ubyte.gz\n"
     ]
    },
    {
     "name": "stderr",
     "output_type": "stream",
     "text": [
      "100%|██████████| 5148/5148 [00:00<00:00, 18566016.33it/s]"
     ]
    },
    {
     "name": "stdout",
     "output_type": "stream",
     "text": [
      "Extracting ./FashionMNIST/raw/t10k-labels-idx1-ubyte.gz to ./FashionMNIST/raw\n",
      "\n"
     ]
    },
    {
     "name": "stderr",
     "output_type": "stream",
     "text": [
      "\n"
     ]
    }
   ],
   "source": [
    "import torch\n",
    "import torch.nn as nn\n",
    "import torchvision\n",
    "import torch.nn.functional as F\n",
    "import torchvision.transforms as transforms\n",
    "import numpy as np\n",
    "import matplotlib.pyplot as pt\n",
    "from datetime import datetime\n",
    "\n",
    "train_dataset = torchvision.datasets.FashionMNIST(root='.', train=True, transform= transforms.ToTensor(), download=True)"
   ]
  },
  {
   "cell_type": "code",
   "execution_count": null,
   "metadata": {
    "colab": {
     "base_uri": "https://localhost:8080/"
    },
    "executionInfo": {
     "elapsed": 25,
     "status": "ok",
     "timestamp": 1718608410203,
     "user": {
      "displayName": "H E",
      "userId": "09638530622080517813"
     },
     "user_tz": -120
    },
    "id": "BYtldJNCyjQK",
    "outputId": "1f99a8cc-4c53-41fb-cd6e-649ca2241894"
   },
   "outputs": [
    {
     "data": {
      "text/plain": [
       "tensor(255, dtype=torch.uint8)"
      ]
     },
     "execution_count": 2,
     "metadata": {},
     "output_type": "execute_result"
    }
   ],
   "source": [
    "train_dataset.data.max()"
   ]
  },
  {
   "cell_type": "code",
   "execution_count": null,
   "metadata": {
    "colab": {
     "base_uri": "https://localhost:8080/"
    },
    "executionInfo": {
     "elapsed": 10,
     "status": "ok",
     "timestamp": 1718608410203,
     "user": {
      "displayName": "H E",
      "userId": "09638530622080517813"
     },
     "user_tz": -120
    },
    "id": "lkvTpVXHy2u4",
    "outputId": "59daacf1-c7bc-4f0b-9980-2874707d8bce"
   },
   "outputs": [
    {
     "data": {
      "text/plain": [
       "torch.Size([60000, 28, 28])"
      ]
     },
     "execution_count": 3,
     "metadata": {},
     "output_type": "execute_result"
    }
   ],
   "source": [
    "train_dataset.data.shape"
   ]
  },
  {
   "cell_type": "code",
   "execution_count": null,
   "metadata": {
    "colab": {
     "base_uri": "https://localhost:8080/"
    },
    "executionInfo": {
     "elapsed": 8,
     "status": "ok",
     "timestamp": 1718608410203,
     "user": {
      "displayName": "H E",
      "userId": "09638530622080517813"
     },
     "user_tz": -120
    },
    "id": "9QD6xY1my7Ay",
    "outputId": "dc04d368-7081-40fe-db39-300c18dafb29"
   },
   "outputs": [
    {
     "data": {
      "text/plain": [
       "tensor([9, 0, 0,  ..., 3, 0, 5])"
      ]
     },
     "execution_count": 4,
     "metadata": {},
     "output_type": "execute_result"
    }
   ],
   "source": [
    "train_dataset.targets"
   ]
  },
  {
   "cell_type": "code",
   "execution_count": null,
   "metadata": {
    "id": "Jz2yT7KWzA2N"
   },
   "outputs": [],
   "source": [
    "test_dataset = torchvision.datasets.FashionMNIST(root='.', train=False, transform= transforms.ToTensor(), download=True)"
   ]
  },
  {
   "cell_type": "code",
   "execution_count": null,
   "metadata": {
    "colab": {
     "base_uri": "https://localhost:8080/"
    },
    "executionInfo": {
     "elapsed": 6,
     "status": "ok",
     "timestamp": 1718608410203,
     "user": {
      "displayName": "H E",
      "userId": "09638530622080517813"
     },
     "user_tz": -120
    },
    "id": "lBiNBT7mzLZE",
    "outputId": "c850eaf3-126b-484c-e057-016ed235d86a"
   },
   "outputs": [
    {
     "name": "stdout",
     "output_type": "stream",
     "text": [
      "number of classes 10\n"
     ]
    }
   ],
   "source": [
    "K = len(set(test_dataset.targets.numpy()))\n",
    "print(\"number of classes\", K)"
   ]
  },
  {
   "cell_type": "code",
   "execution_count": null,
   "metadata": {
    "id": "jiq0EIRRzWOv"
   },
   "outputs": [],
   "source": [
    "class CNN(nn.Module):\n",
    "  def __init__(self, K):\n",
    "    super(CNN, self).__init__()\n",
    "    self.conv_layers= nn.Sequential(\n",
    "        nn.Conv2d(in_channels=1, out_channels=32, kernel_size=3, stride=2 ),\n",
    "        nn.ReLU(),\n",
    "        nn.Conv2d(in_channels=32, out_channels=64, kernel_size=3, stride=2 ),\n",
    "        nn.ReLU(),\n",
    "        nn.Conv2d(in_channels=64, out_channels=128, kernel_size=3, stride=2 ),\n",
    "        nn.ReLU()\n",
    "        )\n",
    "    self.dense_layers = nn.Sequential(\n",
    "        nn.Dropout(0.2),\n",
    "        nn.Linear(128*2*2,512),\n",
    "        nn.ReLU(),\n",
    "        nn.Dropout(0.2),\n",
    "        nn.Linear(512, K),\n",
    "    )\n",
    "\n",
    "  def forward(self, X):\n",
    "    out = self.conv_layers(X)\n",
    "    out = out.view(out.size(0), -1)\n",
    "    out = self.dense_layers(out)\n",
    "    return out"
   ]
  },
  {
   "cell_type": "code",
   "execution_count": null,
   "metadata": {
    "id": "pZ8JzqMTAVFF"
   },
   "outputs": [],
   "source": [
    "model = CNN(K)"
   ]
  },
  {
   "cell_type": "code",
   "execution_count": null,
   "metadata": {
    "colab": {
     "base_uri": "https://localhost:8080/"
    },
    "executionInfo": {
     "elapsed": 6,
     "status": "ok",
     "timestamp": 1718608410204,
     "user": {
      "displayName": "H E",
      "userId": "09638530622080517813"
     },
     "user_tz": -120
    },
    "id": "6Py9F2UNAqGH",
    "outputId": "afbcc743-c881-4d75-a2af-14948b09f64b"
   },
   "outputs": [
    {
     "name": "stdout",
     "output_type": "stream",
     "text": [
      "cpu\n"
     ]
    },
    {
     "data": {
      "text/plain": [
       "CNN(\n",
       "  (conv_layers): Sequential(\n",
       "    (0): Conv2d(1, 32, kernel_size=(3, 3), stride=(2, 2))\n",
       "    (1): ReLU()\n",
       "    (2): Conv2d(32, 64, kernel_size=(3, 3), stride=(2, 2))\n",
       "    (3): ReLU()\n",
       "    (4): Conv2d(64, 128, kernel_size=(3, 3), stride=(2, 2))\n",
       "    (5): ReLU()\n",
       "  )\n",
       "  (dense_layers): Sequential(\n",
       "    (0): Dropout(p=0.2, inplace=False)\n",
       "    (1): Linear(in_features=512, out_features=512, bias=True)\n",
       "    (2): ReLU()\n",
       "    (3): Dropout(p=0.2, inplace=False)\n",
       "    (4): Linear(in_features=512, out_features=10, bias=True)\n",
       "  )\n",
       ")"
      ]
     },
     "execution_count": 9,
     "metadata": {},
     "output_type": "execute_result"
    }
   ],
   "source": [
    "device = torch.device(\"cuda:0\" if torch.cuda.is_available() else \"cpu\")\n",
    "print(device)\n",
    "model.to(device)\n"
   ]
  },
  {
   "cell_type": "code",
   "execution_count": null,
   "metadata": {
    "id": "LmFr0RNhB5OF"
   },
   "outputs": [],
   "source": [
    "criterion = nn.CrossEntropyLoss()\n",
    "optimizer = torch.optim.Adam(model.parameters())\n",
    "\n",
    "batch_size = 128\n",
    "\n",
    "\n",
    "train_loader = torch.utils.data.DataLoader(dataset=train_dataset, batch_size=batch_size, shuffle=True)\n",
    "test_loader = torch.utils.data.DataLoader(dataset=test_dataset, batch_size=batch_size, shuffle=False)\n",
    "\n",
    "def batch_gd(model, criterion, optimizer, train_loader, test_loader, n_epochs = 1000 ):\n",
    "  train_losses = np.zeros(n_epochs)\n",
    "  test_losses = np.zeros(n_epochs)\n",
    "  # total number of iteration is in fact #n_epochs * #batches\n",
    "  for it in range(n_epochs):\n",
    "    model.train()\n",
    "    t0 = datetime.now()\n",
    "    train_loss = []\n",
    "    for inputs,targets in train_loader:\n",
    "      inputs, targets = inputs.to(device), targets.to(device)\n",
    "      optimizer.zero_grad()\n",
    "      outputs = model(inputs)\n",
    "      loss = criterion(outputs, targets)\n",
    "      loss.backward()\n",
    "      optimizer.step()\n",
    "      train_loss.append(loss.item())\n",
    "    train_loss = np.mean(train_loss)\n",
    "\n",
    "    test_loss = []\n",
    "    for inputs,targets in test_loader:\n",
    "      inputs, targets = inputs.to(device), targets.to(device)\n",
    "      outputs = model(inputs)\n",
    "      loss = criterion(outputs, targets)\n",
    "      test_loss.append(loss.item())\n",
    "\n",
    "    test_loss = np.mean(test_loss)\n",
    "\n",
    "    train_losses[it] = train_loss\n",
    "    test_losses[it] = test_loss\n",
    "    dt = datetime.now() - t0\n",
    "    print(f'Epoch {it+1}/{n_epochs}, Train Loss {train_loss.item():.4f}, Test Loss {test_loss.item():.4f}, Duration: {dt}')\n",
    "  return train_losses, test_losses"
   ]
  },
  {
   "cell_type": "code",
   "execution_count": null,
   "metadata": {
    "colab": {
     "base_uri": "https://localhost:8080/"
    },
    "executionInfo": {
     "elapsed": 437608,
     "status": "ok",
     "timestamp": 1718608847808,
     "user": {
      "displayName": "H E",
      "userId": "09638530622080517813"
     },
     "user_tz": -120
    },
    "id": "7Xn738qQEFzU",
    "outputId": "2c93d34a-f287-437e-a9e6-a968bed0d498"
   },
   "outputs": [
    {
     "name": "stdout",
     "output_type": "stream",
     "text": [
      "Epoch 1/15, Train Loss 0.6542, Test Loss 0.4976, Duration: 0:00:37.078859\n",
      "Epoch 2/15, Train Loss 0.4400, Test Loss 0.4317, Duration: 0:00:30.354165\n",
      "Epoch 3/15, Train Loss 0.3803, Test Loss 0.3799, Duration: 0:00:29.333881\n",
      "Epoch 4/15, Train Loss 0.3410, Test Loss 0.3557, Duration: 0:00:28.250844\n",
      "Epoch 5/15, Train Loss 0.3138, Test Loss 0.3394, Duration: 0:00:28.364913\n",
      "Epoch 6/15, Train Loss 0.2897, Test Loss 0.3265, Duration: 0:00:28.205455\n",
      "Epoch 7/15, Train Loss 0.2739, Test Loss 0.3426, Duration: 0:00:29.168502\n",
      "Epoch 8/15, Train Loss 0.2591, Test Loss 0.3179, Duration: 0:00:28.181502\n",
      "Epoch 9/15, Train Loss 0.2405, Test Loss 0.3071, Duration: 0:00:28.359518\n",
      "Epoch 10/15, Train Loss 0.2312, Test Loss 0.3156, Duration: 0:00:28.314675\n",
      "Epoch 11/15, Train Loss 0.2155, Test Loss 0.3033, Duration: 0:00:28.713702\n",
      "Epoch 12/15, Train Loss 0.2039, Test Loss 0.2976, Duration: 0:00:28.244006\n",
      "Epoch 13/15, Train Loss 0.1943, Test Loss 0.3060, Duration: 0:00:28.031288\n",
      "Epoch 14/15, Train Loss 0.1848, Test Loss 0.3198, Duration: 0:00:28.260370\n",
      "Epoch 15/15, Train Loss 0.1749, Test Loss 0.3087, Duration: 0:00:28.540712\n"
     ]
    }
   ],
   "source": [
    "train_losses, test_losses = batch_gd(model, criterion, optimizer, train_loader, test_loader, n_epochs = 15)"
   ]
  },
  {
   "cell_type": "code",
   "execution_count": null,
   "metadata": {
    "colab": {
     "base_uri": "https://localhost:8080/"
    },
    "executionInfo": {
     "elapsed": 515,
     "status": "ok",
     "timestamp": 1718608848320,
     "user": {
      "displayName": "H E",
      "userId": "09638530622080517813"
     },
     "user_tz": -120
    },
    "id": "-saq4sR6EPdv",
    "outputId": "512986ab-7ed3-4115-ba0e-1d98ec4cb85f"
   },
   "outputs": [
    {
     "data": {
      "image/png": "[encoded data removed]",
      "text/plain": [
       "<Figure size 640x480 with 1 Axes>"
      ]
     },
     "metadata": {},
     "output_type": "display_data"
    }
   ],
   "source": [
    "import matplotlib.pyplot as plt\n",
    "plt.plot(train_losses, label = \"train loss\")\n",
    "plt.plot(test_losses, label = \"test loss\")\n",
    "plt.legend()\n",
    "plt.show()"
   ]
  },
  {
   "cell_type": "code",
   "execution_count": 17,
   "metadata": {
    "executionInfo": {
     "elapsed": 17721,
     "status": "ok",
     "timestamp": 1718615465911,
     "user": {
      "displayName": "H E",
      "userId": "09638530622080517813"
     },
     "user_tz": -120
    },
    "id": "l3nR4KjkGd-h"
   },
   "outputs": [],
   "source": [
    "n_correct = 0\n",
    "n_total = 0\n",
    "for inputs, targets in train_loader:\n",
    "  #inputs, targets = inputs.to(device), targets.to(device)\n",
    "\n",
    "  outputs = model(inputs)\n",
    "  _, prediction = torch.max(outputs, 1)\n",
    "  n_correct  += (prediction == targets).sum().item()\n",
    "  n_total += targets.shape[0]\n",
    "\n",
    "train_acc = n_correct / n_total\n",
    "\n",
    "n_correct = 0\n",
    "n_total = 0\n",
    "for inputs, targets in test_loader:\n",
    "  # inputs, targets = inputs.to(device), targets.to(device)\n",
    "\n",
    "  outputs = model(inputs)\n",
    "  _, prediction = torch.max(outputs, 1)\n",
    "  n_correct  += (prediction == targets).sum().item()\n",
    "  n_total += targets.shape[0]\n",
    "\n",
    "test_acc = n_correct / n_total"
   ]
  },
  {
   "cell_type": "code",
   "execution_count": null,
   "metadata": {
    "colab": {
     "base_uri": "https://localhost:8080/"
    },
    "executionInfo": {
     "elapsed": 14,
     "status": "ok",
     "timestamp": 1718608863092,
     "user": {
      "displayName": "H E",
      "userId": "09638530622080517813"
     },
     "user_tz": -120
    },
    "id": "WXCp1swLLxE6",
    "outputId": "232d6bcc-6b10-4efe-b13d-246353cee2fe"
   },
   "outputs": [
    {
     "name": "stdout",
     "output_type": "stream",
     "text": [
      "Train acc: 0.9425, Test acc: 0.8994\n"
     ]
    }
   ],
   "source": [
    "print(f\"Train acc: {train_acc:.4f}, Test acc: {test_acc:.4}\")"
   ]
  },
  {
   "cell_type": "code",
   "execution_count": null,
   "metadata": {
    "id": "VWLJ-7WuNDXJ"
   },
   "outputs": [],
   "source": [
    "from sklearn.metrics import confusion_matrix\n",
    "import numpy as np\n",
    "import itertools\n",
    "\n",
    "def plot_confusion_matrix(cm, classes, normalize=False, title='Confusion Matrix', cmap=plt.cm.Blues):\n",
    "\n",
    "  if normalize:\n",
    "    cm = cm.astype('float') / cm.sum(axis=1)[:, np.newaxis]\n",
    "    print(\"Normalized confusion matrix\")\n",
    "\n",
    "  else:\n",
    "    print('Confusion matrix, without normalization')\n",
    "\n",
    "  print(cm)\n",
    "\n",
    "  plt.imshow(cm, interpolation='nearest', cmap=cmap)\n",
    "  plt.title(title)\n",
    "  plt.colorbar()\n",
    "  tick_marks = np.arange(len(classes))\n",
    "  plt.xticks(tick_marks, classes, rotation=45)\n",
    "  plt.yticks(tick_marks, classes)\n",
    "\n",
    "  fmt = '.2f' if normalize else 'd'\n",
    "\n",
    "  thresh = cm.max() / 2\n",
    "  for i, j in itertools.product(range(cm.shape[0]), range(cm.shape[1])):\n",
    "    plt.text(j, i, format(cm[i, j], fmt), horizontalalignment=\"center\", color=\"white\" if cm[i, j] > thresh else \"black\")\n",
    "\n",
    "  plt.tight_layout()\n",
    "  plt.ylabel('True label')\n",
    "  plt.xlabel('Predicted label')\n",
    "  plt.show()\n",
    "\n",
    "x_test = test_dataset.data.numpy()\n",
    "y_test = test_dataset.targets.numpy()\n",
    "p_test = np.array([])\n",
    "for inputs, targets in test_loader:\n",
    "  outputs = model(inputs)\n",
    "\n",
    "  _, predictions = torch.max(outputs, 1)\n",
    "\n",
    "  p_test = np.concatenate((p_test, predictions.cpu().numpy()))\n",
    "\n",
    "cm = confusion_matrix(y_test, p_test)\n",
    "plot_confusion_matrix(cm, list(range(10)))"
   ]
  },
  {
   "cell_type": "code",
   "execution_count": null,
   "metadata": {
    "colab": {
     "base_uri": "https://localhost:8080/"
    },
    "executionInfo": {
     "elapsed": 17,
     "status": "ok",
     "timestamp": 1718608867142,
     "user": {
      "displayName": "H E",
      "userId": "09638530622080517813"
     },
     "user_tz": -120
    },
    "id": "vb_YavxuU4ez",
    "outputId": "4256a47f-83f5-4f96-f1cc-f12402a5f995"
   },
   "outputs": [
    {
     "data": {
      "text/plain": [
       "Text(0.5, 1.0, 'True label: 2 Predicted: 4')"
      ]
     },
     "execution_count": 16,
     "metadata": {},
     "output_type": "execute_result"
    },
    {
     "data": {
      "image/png": "[encoded data removed]",
      "text/plain": [
       "<Figure size 640x480 with 1 Axes>"
      ]
     },
     "metadata": {},
     "output_type": "display_data"
    }
   ],
   "source": [
    "misclassified_idx = np.where(p_test != y_test)[0]\n",
    "i = np.random.choice(misclassified_idx)\n",
    "plt.imshow(x_test[i], cmap='gray')\n",
    "plt.title(\"True label: %s Predicted: %s\" % (y_test[i], int(p_test[i])))"
   ]
  }
 ],
 "metadata": {
  "colab": {
   "authorship_tag": "ABX9TyMSfTj3nL1+eP4FxH4C66k5",
   "provenance": []
  },
  "kernelspec": {
   "display_name": "Python 3 (ipykernel)",
   "language": "python",
   "name": "python3"
  },
  "language_info": {
   "codemirror_mode": {
    "name": "ipython",
    "version": 3
   },
   "file_extension": ".py",
   "mimetype": "text/x-python",
   "name": "python",
   "nbconvert_exporter": "python",
   "pygments_lexer": "ipython3",
   "version": "3.10.12"
  }
 },
 "nbformat": 4,
 "nbformat_minor": 1
}
