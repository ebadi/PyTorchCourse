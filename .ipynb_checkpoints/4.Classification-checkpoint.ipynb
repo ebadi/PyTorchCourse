{
 "cells": [
  {
   "cell_type": "markdown",
   "metadata": {
    "id": "b6YsAXuVBWxm"
   },
   "source": [
    "In simple clasification the goal is find the line (`w1x1 + w2x2 + b = 0`) that separate data points.\n",
    "\n",
    "accuracy = #correct prediction / #total predication\n",
    "\n",
    "cost = loss = error = 1 - accuracy\n",
    "\n",
    "In classification it does not make sense to use te binary cross entropy loss to evaluate the model"
   ]
  },
  {
   "cell_type": "code",
   "execution_count": 1,
   "metadata": {
    "colab": {
     "base_uri": "https://localhost:8080/"
    },
    "executionInfo": {
     "elapsed": 4364,
     "status": "ok",
     "timestamp": 1718267849939,
     "user": {
      "displayName": "H E",
      "userId": "09638530622080517813"
     },
     "user_tz": -120
    },
    "id": "qyCfV8PUBiRc",
    "outputId": "c574405b-5cd1-4949-d9c5-fa2c41c14371"
   },
   "outputs": [
    {
     "name": "stdout",
     "output_type": "stream",
     "text": [
      "<class 'sklearn.utils._bunch.Bunch'>\n",
      "dict_keys(['data', 'target', 'frame', 'target_names', 'DESCR', 'feature_names', 'filename', 'data_module'])\n",
      "(569, 30)\n"
     ]
    }
   ],
   "source": [
    "import torch\n",
    "import torch.nn as nn\n",
    "import numpy as np\n",
    "import matplotlib.pyplot as plt\n",
    "from sklearn.model_selection import train_test_split\n",
    "from sklearn.preprocessing import StandardScaler\n",
    "from sklearn.datasets import load_breast_cancer\n",
    "\n",
    "data = load_breast_cancer()\n",
    "print(type(data))\n",
    "print(data.keys())\n",
    "print(data.data.shape)\n",
    "X, Y = data.data, data.target"
   ]
  },
  {
   "cell_type": "code",
   "execution_count": 2,
   "metadata": {
    "colab": {
     "base_uri": "https://localhost:8080/"
    },
    "executionInfo": {
     "elapsed": 17,
     "status": "ok",
     "timestamp": 1718267849940,
     "user": {
      "displayName": "H E",
      "userId": "09638530622080517813"
     },
     "user_tz": -120
    },
    "id": "EcbUC1KqFA3L",
    "outputId": "cac5db15-9104-4291-ea4c-763f829dc66d"
   },
   "outputs": [
    {
     "name": "stdout",
     "output_type": "stream",
     "text": [
      "(569, 30) (569,)\n",
      "(569,)\n",
      "(569, 30)\n",
      "['malignant' 'benign']\n",
      "['mean radius' 'mean texture' 'mean perimeter' 'mean area'\n",
      " 'mean smoothness' 'mean compactness' 'mean concavity'\n",
      " 'mean concave points' 'mean symmetry' 'mean fractal dimension'\n",
      " 'radius error' 'texture error' 'perimeter error' 'area error'\n",
      " 'smoothness error' 'compactness error' 'concavity error'\n",
      " 'concave points error' 'symmetry error' 'fractal dimension error'\n",
      " 'worst radius' 'worst texture' 'worst perimeter' 'worst area'\n",
      " 'worst smoothness' 'worst compactness' 'worst concavity'\n",
      " 'worst concave points' 'worst symmetry' 'worst fractal dimension']\n"
     ]
    }
   ],
   "source": [
    "print(X.shape, Y.shape)\n",
    "\n",
    "print(data.target.shape)\n",
    "print(data.data.shape)\n",
    "\n",
    "print(data.target_names)\n",
    "print(data.feature_names)"
   ]
  },
  {
   "cell_type": "code",
   "execution_count": 2,
   "metadata": {
    "executionInfo": {
     "elapsed": 14,
     "status": "ok",
     "timestamp": 1718267849940,
     "user": {
      "displayName": "H E",
      "userId": "09638530622080517813"
     },
     "user_tz": -120
    },
    "id": "VXVOCDDLutbj"
   },
   "outputs": [],
   "source": []
  },
  {
   "cell_type": "code",
   "execution_count": 3,
   "metadata": {
    "executionInfo": {
     "elapsed": 14,
     "status": "ok",
     "timestamp": 1718267849940,
     "user": {
      "displayName": "H E",
      "userId": "09638530622080517813"
     },
     "user_tz": -120
    },
    "id": "EqHPOiv3FKOT"
   },
   "outputs": [],
   "source": [
    "\n",
    "X_train , X_test, y_train, y_test = train_test_split(X, Y, test_size = 0.33)\n",
    "N, D = X_train.shape\n",
    "\n",
    "scaler = StandardScaler()\n",
    "X_train = scaler.fit_transform(X_train)\n",
    "X_test = scaler.transform(X_test)"
   ]
  },
  {
   "cell_type": "code",
   "execution_count": 4,
   "metadata": {
    "executionInfo": {
     "elapsed": 4527,
     "status": "ok",
     "timestamp": 1718267854454,
     "user": {
      "displayName": "H E",
      "userId": "09638530622080517813"
     },
     "user_tz": -120
    },
    "id": "_P2uzGaIGpgd"
   },
   "outputs": [],
   "source": [
    "# N numebr of samples, D number of features, output size is 1\n",
    "model = nn.Sequential(nn.Linear(D, 1), nn.Sigmoid())\n",
    "#criterion_BCELoss = nn.BCELoss()\n",
    "criterion_BCEWithLogitsLoss = nn.BCEWithLogitsLoss()\n",
    "optimizer = torch.optim.Adam(model.parameters())\n",
    "\n",
    "X_train = torch.from_numpy(X_train.astype(np.float32))\n",
    "X_test = torch.from_numpy(X_test.astype(np.float32))\n",
    "y_train = torch.from_numpy(y_train.astype(np.float32).reshape(-1,1))\n",
    "y_test = torch.from_numpy(y_test.astype(np.float32).reshape(-1,1))\n",
    "n_epochs = 1000\n",
    "\n",
    "train_losses = np.zeros(n_epochs)\n",
    "test_losses = np.zeros(n_epochs)"
   ]
  },
  {
   "cell_type": "code",
   "execution_count": 5,
   "metadata": {
    "colab": {
     "base_uri": "https://localhost:8080/"
    },
    "executionInfo": {
     "elapsed": 2867,
     "status": "ok",
     "timestamp": 1718267857307,
     "user": {
      "displayName": "H E",
      "userId": "09638530622080517813"
     },
     "user_tz": -120
    },
    "id": "-GeDrXT5MWAG",
    "outputId": "0692d473-82f6-4f91-8498-7a87a3dca244"
   },
   "outputs": [
    {
     "name": "stdout",
     "output_type": "stream",
     "text": [
      "Epoch 50/1000, Train Loss 0.5729 Test Loss 0.5905\n",
      "Epoch 100/1000, Train Loss 0.5404 Test Loss 0.5562\n",
      "Epoch 150/1000, Train Loss 0.5229 Test Loss 0.5391\n",
      "Epoch 200/1000, Train Loss 0.5120 Test Loss 0.5289\n",
      "Epoch 250/1000, Train Loss 0.5044 Test Loss 0.5220\n",
      "Epoch 300/1000, Train Loss 0.4988 Test Loss 0.5171\n",
      "Epoch 350/1000, Train Loss 0.4946 Test Loss 0.5134\n",
      "Epoch 400/1000, Train Loss 0.4912 Test Loss 0.5105\n",
      "Epoch 450/1000, Train Loss 0.4884 Test Loss 0.5081\n",
      "Epoch 500/1000, Train Loss 0.4861 Test Loss 0.5061\n",
      "Epoch 550/1000, Train Loss 0.4841 Test Loss 0.5045\n",
      "Epoch 600/1000, Train Loss 0.4824 Test Loss 0.5030\n",
      "Epoch 650/1000, Train Loss 0.4809 Test Loss 0.5018\n",
      "Epoch 700/1000, Train Loss 0.4796 Test Loss 0.5007\n",
      "Epoch 750/1000, Train Loss 0.4784 Test Loss 0.4997\n",
      "Epoch 800/1000, Train Loss 0.4774 Test Loss 0.4988\n",
      "Epoch 850/1000, Train Loss 0.4764 Test Loss 0.4980\n",
      "Epoch 900/1000, Train Loss 0.4755 Test Loss 0.4973\n",
      "Epoch 950/1000, Train Loss 0.4747 Test Loss 0.4967\n",
      "Epoch 1000/1000, Train Loss 0.4740 Test Loss 0.4961\n"
     ]
    }
   ],
   "source": [
    "for it in range(n_epochs):\n",
    "  optimizer.zero_grad()\n",
    "  outputs = model(X_train)\n",
    "  # loss = criterion_BCELoss(outputs, y_train)\n",
    "  loss = criterion_BCEWithLogitsLoss(outputs, y_train)\n",
    "  loss.backward() # backward and optimize\n",
    "  optimizer.step()\n",
    "  outputs_test = model(X_test)\n",
    "  # to avoid overfiting the model\n",
    "  #loss_test = criterion_BCELoss(outputs_test, y_test)\n",
    "  loss_test = criterion_BCEWithLogitsLoss(outputs_test, y_test)\n",
    "\n",
    "  train_losses[it] = loss.item()\n",
    "  test_losses[it] = loss_test.item()\n",
    "\n",
    "  if (it+ 1) % 50 == 0:\n",
    "    print(f'Epoch {it+1}/{n_epochs}, Train Loss {loss.item():.4f} Test Loss {loss_test.item():.4f}')"
   ]
  },
  {
   "cell_type": "code",
   "execution_count": 6,
   "metadata": {
    "colab": {
     "base_uri": "https://localhost:8080/",
     "height": 430
    },
    "executionInfo": {
     "elapsed": 538,
     "status": "ok",
     "timestamp": 1718267857831,
     "user": {
      "displayName": "H E",
      "userId": "09638530622080517813"
     },
     "user_tz": -120
    },
    "id": "5J9eHP4cMhYy",
    "outputId": "26142643-8556-43b6-9ad0-9a63800c59d3"
   },
   "outputs": [
    {
     "data": {
      "image/png": "[encoded data removed]",
      "text/plain": [
       "<Figure size 640x480 with 1 Axes>"
      ]
     },
     "metadata": {},
     "output_type": "display_data"
    }
   ],
   "source": [
    "plt.plot(train_losses , label= \"train loss\")\n",
    "plt.plot(test_losses , label= \"test loss\")\n",
    "plt.legend()\n",
    "plt.show()"
   ]
  },
  {
   "cell_type": "code",
   "execution_count": 7,
   "metadata": {
    "colab": {
     "base_uri": "https://localhost:8080/"
    },
    "executionInfo": {
     "elapsed": 13,
     "status": "ok",
     "timestamp": 1718267857831,
     "user": {
      "displayName": "H E",
      "userId": "09638530622080517813"
     },
     "user_tz": -120
    },
    "id": "LZZBLLrcNQPu",
    "outputId": "1af0c12e-a779-4a54-c810-8a2f5b3dacee"
   },
   "outputs": [
    {
     "name": "stdout",
     "output_type": "stream",
     "text": [
      "train acc 0.6457, test acc: 0.9787\n"
     ]
    }
   ],
   "source": [
    "with torch.no_grad():\n",
    "  p_train = model(X_train)\n",
    "  #option 1 : criterion_BCELoss\n",
    "  #p_train = np.round(p_train.numpy())\n",
    "\n",
    "  #option 2: criterion_BCEWithLogitsLoss\n",
    "  p_train = (p_train.numpy() > 0)\n",
    "\n",
    "  train_acc = np.mean(y_train.numpy() == p_train)\n",
    "\n",
    "  p_test = model(X_test)\n",
    "  p_test = np.round(p_test.numpy())\n",
    "  test_acc = np.mean(y_test.numpy() == p_test)\n",
    "print(f\"train acc {train_acc:.4f}, test acc: {test_acc:.4f}\")"
   ]
  },
  {
   "cell_type": "code",
   "execution_count": 8,
   "metadata": {
    "colab": {
     "base_uri": "https://localhost:8080/"
    },
    "executionInfo": {
     "elapsed": 11,
     "status": "ok",
     "timestamp": 1718267857831,
     "user": {
      "displayName": "H E",
      "userId": "09638530622080517813"
     },
     "user_tz": -120
    },
    "id": "nrYUO8n6Ogdi",
    "outputId": "c5442283-5afa-46b3-d348-0f95359bced1"
   },
   "outputs": [
    {
     "data": {
      "text/plain": [
       "OrderedDict([('0.weight',\n",
       "              tensor([[-0.2477, -0.4184, -0.5348, -0.2749, -0.3157, -0.2412, -0.3495, -0.4551,\n",
       "                       -0.1002,  0.8358, -0.3084,  0.1271, -0.5439, -0.3099, -0.3068,  0.0152,\n",
       "                        0.0408, -0.1581,  0.5004,  0.5101, -0.4697, -0.5346, -0.5322, -0.3365,\n",
       "                       -0.2424, -0.2027, -0.3687, -0.3117, -0.5868, -0.3776]])),\n",
       "             ('0.bias', tensor([0.6651]))])"
      ]
     },
     "execution_count": 8,
     "metadata": {},
     "output_type": "execute_result"
    }
   ],
   "source": [
    "model.state_dict()"
   ]
  },
  {
   "cell_type": "code",
   "execution_count": 9,
   "metadata": {
    "colab": {
     "base_uri": "https://localhost:8080/"
    },
    "executionInfo": {
     "elapsed": 10,
     "status": "ok",
     "timestamp": 1718267857831,
     "user": {
      "displayName": "H E",
      "userId": "09638530622080517813"
     },
     "user_tz": -120
    },
    "id": "28xCW49YfHRK",
    "outputId": "c214b86a-9097-43f3-bfda-ffb7619ac81c"
   },
   "outputs": [
    {
     "name": "stdout",
     "output_type": "stream",
     "text": [
      "class_model.pt\tsample_data\n"
     ]
    }
   ],
   "source": [
    "torch.save(model.state_dict(), 'class_model.pt')\n",
    "!ls"
   ]
  },
  {
   "cell_type": "code",
   "execution_count": 10,
   "metadata": {
    "colab": {
     "base_uri": "https://localhost:8080/"
    },
    "executionInfo": {
     "elapsed": 8,
     "status": "ok",
     "timestamp": 1718267857831,
     "user": {
      "displayName": "H E",
      "userId": "09638530622080517813"
     },
     "user_tz": -120
    },
    "id": "erAglzvlfSjK",
    "outputId": "01efa758-d5a7-4da9-b3a7-d3d40203ec5c"
   },
   "outputs": [
    {
     "data": {
      "text/plain": [
       "<All keys matched successfully>"
      ]
     },
     "execution_count": 10,
     "metadata": {},
     "output_type": "execute_result"
    }
   ],
   "source": [
    "model_from_disk = nn.Sequential(nn.Linear(D, 1), nn.Sigmoid())\n",
    "model_from_disk.load_state_dict(torch.load('class_model.pt'))"
   ]
  },
  {
   "cell_type": "code",
   "execution_count": 11,
   "metadata": {
    "colab": {
     "base_uri": "https://localhost:8080/",
     "height": 17
    },
    "executionInfo": {
     "elapsed": 8,
     "status": "ok",
     "timestamp": 1718267857832,
     "user": {
      "displayName": "H E",
      "userId": "09638530622080517813"
     },
     "user_tz": -120
    },
    "id": "z37x8xSQfjeI",
    "outputId": "eb6f2760-e68e-4113-8373-3d41e1aaaa1c"
   },
   "outputs": [
    {
     "data": {
      "application/javascript": [
       "\n",
       "    async function download(id, filename, size) {\n",
       "      if (!google.colab.kernel.accessAllowed) {\n",
       "        return;\n",
       "      }\n",
       "      const div = document.createElement('div');\n",
       "      const label = document.createElement('label');\n",
       "      label.textContent = `Downloading \"${filename}\": `;\n",
       "      div.appendChild(label);\n",
       "      const progress = document.createElement('progress');\n",
       "      progress.max = size;\n",
       "      div.appendChild(progress);\n",
       "      document.body.appendChild(div);\n",
       "\n",
       "      const buffers = [];\n",
       "      let downloaded = 0;\n",
       "\n",
       "      const channel = await google.colab.kernel.comms.open(id);\n",
       "      // Send a message to notify the kernel that we're ready.\n",
       "      channel.send({})\n",
       "\n",
       "      for await (const message of channel.messages) {\n",
       "        // Send a message to notify the kernel that we're ready.\n",
       "        channel.send({})\n",
       "        if (message.buffers) {\n",
       "          for (const buffer of message.buffers) {\n",
       "            buffers.push(buffer);\n",
       "            downloaded += buffer.byteLength;\n",
       "            progress.value = downloaded;\n",
       "          }\n",
       "        }\n",
       "      }\n",
       "      const blob = new Blob(buffers, {type: 'application/binary'});\n",
       "      const a = document.createElement('a');\n",
       "      a.href = window.URL.createObjectURL(blob);\n",
       "      a.download = filename;\n",
       "      div.appendChild(a);\n",
       "      a.click();\n",
       "      div.remove();\n",
       "    }\n",
       "  "
      ],
      "text/plain": [
       "<IPython.core.display.Javascript object>"
      ]
     },
     "metadata": {},
     "output_type": "display_data"
    },
    {
     "data": {
      "application/javascript": [
       "download(\"download_250bdd15-c32b-48eb-a773-58b9d52ea439\", \"class_model.pt\", 1648)"
      ],
      "text/plain": [
       "<IPython.core.display.Javascript object>"
      ]
     },
     "metadata": {},
     "output_type": "display_data"
    }
   ],
   "source": [
    "from google.colab import files\n",
    "files.download('class_model.pt')"
   ]
  }
 ],
 "metadata": {
  "colab": {
   "authorship_tag": "ABX9TyPuggp2q51xMcX6zgBRe1vG",
   "provenance": []
  },
  "kernelspec": {
   "display_name": "Python 3 (ipykernel)",
   "language": "python",
   "name": "python3"
  },
  "language_info": {
   "codemirror_mode": {
    "name": "ipython",
    "version": 3
   },
   "file_extension": ".py",
   "mimetype": "text/x-python",
   "name": "python",
   "nbconvert_exporter": "python",
   "pygments_lexer": "ipython3",
   "version": "3.10.12"
  }
 },
 "nbformat": 4,
 "nbformat_minor": 1
}
