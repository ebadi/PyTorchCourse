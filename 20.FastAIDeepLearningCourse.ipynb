{
 "cells": [
  {
   "cell_type": "markdown",
   "id": "ace91dfc",
   "metadata": {},
   "source": [
    "%timeit function  --> print the execution time\n",
    "\n",
    "https://github.com/fastai/fastbook"
   ]
  },
  {
   "cell_type": "code",
   "execution_count": 1,
   "id": "8f960891",
   "metadata": {},
   "outputs": [
    {
     "name": "stdout",
     "output_type": "stream",
     "text": [
      "Collecting voila\n",
      "  Downloading voila-0.5.7-py3-none-any.whl (3.9 MB)\n",
      "\u001b[2K     \u001b[38;2;114;156;31m━━━━━━━━━━━━━━━━━━━━━━━━━━━━━━━━━━━━━━━━\u001b[0m \u001b[32m3.9/3.9 MB\u001b[0m \u001b[31m37.8 MB/s\u001b[0m eta \u001b[36m0:00:00\u001b[0mm eta \u001b[36m0:00:01\u001b[0m[36m0:00:01\u001b[0m\n",
      "\u001b[?25hRequirement already satisfied: nbconvert<8,>=6.4.5 in /home/research/miniconda3/lib/python3.9/site-packages (from voila) (7.16.4)\n",
      "Requirement already satisfied: traitlets<6,>=5.0.3 in /home/research/miniconda3/lib/python3.9/site-packages (from voila) (5.14.2)\n",
      "Requirement already satisfied: jupyterlab-server<3,>=2.3.0 in /home/research/miniconda3/lib/python3.9/site-packages (from voila) (2.27.2)\n",
      "Collecting websockets>=9.0\n",
      "  Downloading websockets-12.0-cp39-cp39-manylinux_2_5_x86_64.manylinux1_x86_64.manylinux_2_17_x86_64.manylinux2014_x86_64.whl (130 kB)\n",
      "\u001b[2K     \u001b[38;2;114;156;31m━━━━━━━━━━━━━━━━━━━━━━━━━━━━━━━━━━━━━━\u001b[0m \u001b[32m130.0/130.0 kB\u001b[0m \u001b[31m20.1 MB/s\u001b[0m eta \u001b[36m0:00:00\u001b[0m\n",
      "\u001b[?25hRequirement already satisfied: jupyter-core>=4.11.0 in /home/research/miniconda3/lib/python3.9/site-packages (from voila) (5.7.2)\n",
      "Requirement already satisfied: jupyter-server<3,>=2.0.0 in /home/research/miniconda3/lib/python3.9/site-packages (from voila) (2.14.1)\n",
      "Requirement already satisfied: nbclient>=0.4.0 in /home/research/miniconda3/lib/python3.9/site-packages (from voila) (0.10.0)\n",
      "Requirement already satisfied: jupyter-client<9,>=7.4.4 in /home/research/miniconda3/lib/python3.9/site-packages (from voila) (8.6.2)\n",
      "Requirement already satisfied: python-dateutil>=2.8.2 in /home/research/miniconda3/lib/python3.9/site-packages (from jupyter-client<9,>=7.4.4->voila) (2.9.0.post0)\n",
      "Requirement already satisfied: importlib-metadata>=4.8.3 in /home/research/miniconda3/lib/python3.9/site-packages (from jupyter-client<9,>=7.4.4->voila) (7.1.0)\n",
      "Requirement already satisfied: tornado>=6.2 in /home/research/miniconda3/lib/python3.9/site-packages (from jupyter-client<9,>=7.4.4->voila) (6.4.1)\n",
      "Requirement already satisfied: pyzmq>=23.0 in /home/research/miniconda3/lib/python3.9/site-packages (from jupyter-client<9,>=7.4.4->voila) (26.0.3)\n",
      "Requirement already satisfied: platformdirs>=2.5 in /home/research/miniconda3/lib/python3.9/site-packages (from jupyter-core>=4.11.0->voila) (4.2.2)\n",
      "Requirement already satisfied: prometheus-client>=0.9 in /home/research/miniconda3/lib/python3.9/site-packages (from jupyter-server<3,>=2.0.0->voila) (0.20.0)\n",
      "Requirement already satisfied: jinja2>=3.0.3 in /home/research/miniconda3/lib/python3.9/site-packages (from jupyter-server<3,>=2.0.0->voila) (3.1.4)\n",
      "Requirement already satisfied: nbformat>=5.3.0 in /home/research/miniconda3/lib/python3.9/site-packages (from jupyter-server<3,>=2.0.0->voila) (5.10.4)\n",
      "Requirement already satisfied: argon2-cffi>=21.1 in /home/research/miniconda3/lib/python3.9/site-packages (from jupyter-server<3,>=2.0.0->voila) (23.1.0)\n",
      "Requirement already satisfied: overrides>=5.0 in /home/research/miniconda3/lib/python3.9/site-packages (from jupyter-server<3,>=2.0.0->voila) (7.7.0)\n",
      "Requirement already satisfied: jupyter-server-terminals>=0.4.4 in /home/research/miniconda3/lib/python3.9/site-packages (from jupyter-server<3,>=2.0.0->voila) (0.5.3)\n",
      "Requirement already satisfied: websocket-client>=1.7 in /home/research/miniconda3/lib/python3.9/site-packages (from jupyter-server<3,>=2.0.0->voila) (1.8.0)\n",
      "Requirement already satisfied: packaging>=22.0 in /home/research/miniconda3/lib/python3.9/site-packages (from jupyter-server<3,>=2.0.0->voila) (23.0)\n",
      "Requirement already satisfied: anyio>=3.1.0 in /home/research/miniconda3/lib/python3.9/site-packages (from jupyter-server<3,>=2.0.0->voila) (4.4.0)\n",
      "Requirement already satisfied: send2trash>=1.8.2 in /home/research/miniconda3/lib/python3.9/site-packages (from jupyter-server<3,>=2.0.0->voila) (1.8.3)\n",
      "Requirement already satisfied: terminado>=0.8.3 in /home/research/miniconda3/lib/python3.9/site-packages (from jupyter-server<3,>=2.0.0->voila) (0.18.1)\n",
      "Requirement already satisfied: jupyter-events>=0.9.0 in /home/research/miniconda3/lib/python3.9/site-packages (from jupyter-server<3,>=2.0.0->voila) (0.10.0)\n",
      "Requirement already satisfied: jsonschema>=4.18.0 in /home/research/miniconda3/lib/python3.9/site-packages (from jupyterlab-server<3,>=2.3.0->voila) (4.22.0)\n",
      "Requirement already satisfied: requests>=2.31 in /home/research/miniconda3/lib/python3.9/site-packages (from jupyterlab-server<3,>=2.3.0->voila) (2.32.3)\n",
      "Requirement already satisfied: babel>=2.10 in /home/research/miniconda3/lib/python3.9/site-packages (from jupyterlab-server<3,>=2.3.0->voila) (2.15.0)\n",
      "Requirement already satisfied: json5>=0.9.0 in /home/research/miniconda3/lib/python3.9/site-packages (from jupyterlab-server<3,>=2.3.0->voila) (0.9.25)\n",
      "Requirement already satisfied: defusedxml in /home/research/miniconda3/lib/python3.9/site-packages (from nbconvert<8,>=6.4.5->voila) (0.7.1)\n",
      "Requirement already satisfied: beautifulsoup4 in /home/research/miniconda3/lib/python3.9/site-packages (from nbconvert<8,>=6.4.5->voila) (4.12.3)\n",
      "Requirement already satisfied: tinycss2 in /home/research/miniconda3/lib/python3.9/site-packages (from nbconvert<8,>=6.4.5->voila) (1.3.0)\n",
      "Requirement already satisfied: markupsafe>=2.0 in /home/research/miniconda3/lib/python3.9/site-packages (from nbconvert<8,>=6.4.5->voila) (2.1.5)\n",
      "Requirement already satisfied: bleach!=5.0.0 in /home/research/miniconda3/lib/python3.9/site-packages (from nbconvert<8,>=6.4.5->voila) (6.1.0)\n",
      "Requirement already satisfied: jupyterlab-pygments in /home/research/miniconda3/lib/python3.9/site-packages (from nbconvert<8,>=6.4.5->voila) (0.3.0)\n",
      "Requirement already satisfied: mistune<4,>=2.0.3 in /home/research/miniconda3/lib/python3.9/site-packages (from nbconvert<8,>=6.4.5->voila) (3.0.2)\n",
      "Requirement already satisfied: pandocfilters>=1.4.1 in /home/research/miniconda3/lib/python3.9/site-packages (from nbconvert<8,>=6.4.5->voila) (1.5.1)\n",
      "Requirement already satisfied: pygments>=2.4.1 in /home/research/miniconda3/lib/python3.9/site-packages (from nbconvert<8,>=6.4.5->voila) (2.17.2)\n",
      "Requirement already satisfied: typing-extensions>=4.1 in /home/research/miniconda3/lib/python3.9/site-packages (from anyio>=3.1.0->jupyter-server<3,>=2.0.0->voila) (4.10.0)\n",
      "Requirement already satisfied: idna>=2.8 in /home/research/miniconda3/lib/python3.9/site-packages (from anyio>=3.1.0->jupyter-server<3,>=2.0.0->voila) (3.4)\n",
      "Requirement already satisfied: sniffio>=1.1 in /home/research/miniconda3/lib/python3.9/site-packages (from anyio>=3.1.0->jupyter-server<3,>=2.0.0->voila) (1.3.1)\n",
      "Requirement already satisfied: exceptiongroup>=1.0.2 in /home/research/miniconda3/lib/python3.9/site-packages (from anyio>=3.1.0->jupyter-server<3,>=2.0.0->voila) (1.2.0)\n",
      "Requirement already satisfied: argon2-cffi-bindings in /home/research/miniconda3/lib/python3.9/site-packages (from argon2-cffi>=21.1->jupyter-server<3,>=2.0.0->voila) (21.2.0)\n",
      "Requirement already satisfied: six>=1.9.0 in /home/research/miniconda3/lib/python3.9/site-packages (from bleach!=5.0.0->nbconvert<8,>=6.4.5->voila) (1.16.0)\n",
      "Requirement already satisfied: webencodings in /home/research/miniconda3/lib/python3.9/site-packages (from bleach!=5.0.0->nbconvert<8,>=6.4.5->voila) (0.5.1)\n",
      "Requirement already satisfied: zipp>=0.5 in /home/research/miniconda3/lib/python3.9/site-packages (from importlib-metadata>=4.8.3->jupyter-client<9,>=7.4.4->voila) (3.18.1)\n",
      "Requirement already satisfied: jsonschema-specifications>=2023.03.6 in /home/research/miniconda3/lib/python3.9/site-packages (from jsonschema>=4.18.0->jupyterlab-server<3,>=2.3.0->voila) (2023.12.1)\n",
      "Requirement already satisfied: attrs>=22.2.0 in /home/research/miniconda3/lib/python3.9/site-packages (from jsonschema>=4.18.0->jupyterlab-server<3,>=2.3.0->voila) (23.2.0)\n",
      "Requirement already satisfied: referencing>=0.28.4 in /home/research/miniconda3/lib/python3.9/site-packages (from jsonschema>=4.18.0->jupyterlab-server<3,>=2.3.0->voila) (0.35.1)\n",
      "Requirement already satisfied: rpds-py>=0.7.1 in /home/research/miniconda3/lib/python3.9/site-packages (from jsonschema>=4.18.0->jupyterlab-server<3,>=2.3.0->voila) (0.18.1)\n",
      "Requirement already satisfied: python-json-logger>=2.0.4 in /home/research/miniconda3/lib/python3.9/site-packages (from jupyter-events>=0.9.0->jupyter-server<3,>=2.0.0->voila) (2.0.7)\n",
      "Requirement already satisfied: rfc3986-validator>=0.1.1 in /home/research/miniconda3/lib/python3.9/site-packages (from jupyter-events>=0.9.0->jupyter-server<3,>=2.0.0->voila) (0.1.1)\n",
      "Requirement already satisfied: rfc3339-validator in /home/research/miniconda3/lib/python3.9/site-packages (from jupyter-events>=0.9.0->jupyter-server<3,>=2.0.0->voila) (0.1.4)\n",
      "Requirement already satisfied: pyyaml>=5.3 in /home/research/miniconda3/lib/python3.9/site-packages (from jupyter-events>=0.9.0->jupyter-server<3,>=2.0.0->voila) (6.0.1)\n",
      "Requirement already satisfied: fastjsonschema>=2.15 in /home/research/miniconda3/lib/python3.9/site-packages (from nbformat>=5.3.0->jupyter-server<3,>=2.0.0->voila) (2.20.0)\n",
      "Requirement already satisfied: charset-normalizer<4,>=2 in /home/research/miniconda3/lib/python3.9/site-packages (from requests>=2.31->jupyterlab-server<3,>=2.3.0->voila) (2.0.4)\n",
      "Requirement already satisfied: urllib3<3,>=1.21.1 in /home/research/miniconda3/lib/python3.9/site-packages (from requests>=2.31->jupyterlab-server<3,>=2.3.0->voila) (1.26.15)\n",
      "Requirement already satisfied: certifi>=2017.4.17 in /home/research/miniconda3/lib/python3.9/site-packages (from requests>=2.31->jupyterlab-server<3,>=2.3.0->voila) (2022.12.7)\n",
      "Requirement already satisfied: ptyprocess in /home/research/miniconda3/lib/python3.9/site-packages (from terminado>=0.8.3->jupyter-server<3,>=2.0.0->voila) (0.7.0)\n",
      "Requirement already satisfied: soupsieve>1.2 in /home/research/miniconda3/lib/python3.9/site-packages (from beautifulsoup4->nbconvert<8,>=6.4.5->voila) (2.5)\n",
      "Requirement already satisfied: uri-template in /home/research/miniconda3/lib/python3.9/site-packages (from jsonschema>=4.18.0->jupyterlab-server<3,>=2.3.0->voila) (1.3.0)\n",
      "Requirement already satisfied: isoduration in /home/research/miniconda3/lib/python3.9/site-packages (from jsonschema>=4.18.0->jupyterlab-server<3,>=2.3.0->voila) (20.11.0)\n",
      "Requirement already satisfied: fqdn in /home/research/miniconda3/lib/python3.9/site-packages (from jsonschema>=4.18.0->jupyterlab-server<3,>=2.3.0->voila) (1.5.1)\n",
      "Requirement already satisfied: jsonpointer>1.13 in /home/research/miniconda3/lib/python3.9/site-packages (from jsonschema>=4.18.0->jupyterlab-server<3,>=2.3.0->voila) (2.1)\n",
      "Requirement already satisfied: webcolors>=1.11 in /home/research/miniconda3/lib/python3.9/site-packages (from jsonschema>=4.18.0->jupyterlab-server<3,>=2.3.0->voila) (24.6.0)\n",
      "Requirement already satisfied: cffi>=1.0.1 in /home/research/miniconda3/lib/python3.9/site-packages (from argon2-cffi-bindings->argon2-cffi>=21.1->jupyter-server<3,>=2.0.0->voila) (1.15.1)\n",
      "Requirement already satisfied: pycparser in /home/research/miniconda3/lib/python3.9/site-packages (from cffi>=1.0.1->argon2-cffi-bindings->argon2-cffi>=21.1->jupyter-server<3,>=2.0.0->voila) (2.21)\n",
      "Requirement already satisfied: arrow>=0.15.0 in /home/research/miniconda3/lib/python3.9/site-packages (from isoduration->jsonschema>=4.18.0->jupyterlab-server<3,>=2.3.0->voila) (1.3.0)\n",
      "Requirement already satisfied: types-python-dateutil>=2.8.10 in /home/research/miniconda3/lib/python3.9/site-packages (from arrow>=0.15.0->isoduration->jsonschema>=4.18.0->jupyterlab-server<3,>=2.3.0->voila) (2.9.0.20240316)\n",
      "Installing collected packages: websockets, voila\n",
      "Successfully installed voila-0.5.7 websockets-12.0\n"
     ]
    }
   ],
   "source": [
    "!pip install -Uqq fastai\n",
    "! [ -e /content ] && pip install -Uqq fastbook\n",
    "import fastbook\n",
    "fastbook.setup_book()\n",
    "!pip install voila # run jupyter notebook\n",
    "# jupyter serverextension enable --sys-prefix voila\n",
    "!pip install jupyter_contrib_nbextensions"
   ]
  },
  {
   "cell_type": "code",
   "execution_count": 5,
   "id": "19569794",
   "metadata": {},
   "outputs": [],
   "source": [
    "from fastcore.all import *\n",
    "from fastdownload import download_url\n",
    "from fastai.vision.all import *\n",
    "from fastbook import * \n",
    "from fastai.vision.widgets import *\n"
   ]
  },
  {
   "cell_type": "code",
   "execution_count": 6,
   "id": "5f53ef51",
   "metadata": {},
   "outputs": [
    {
     "data": {
      "image/svg+xml": [
       "<?xml version=\"1.0\" encoding=\"UTF-8\" standalone=\"no\"?>\n",
       "<!DOCTYPE svg PUBLIC \"-//W3C//DTD SVG 1.1//EN\"\n",
       " \"http://www.w3.org/Graphics/SVG/1.1/DTD/svg11.dtd\">\n",
       "<!-- Generated by graphviz version 2.43.0 (0)\n",
       " -->\n",
       "<!-- Title: G Pages: 1 -->\n",
       "<svg width=\"483pt\" height=\"98pt\"\n",
       " viewBox=\"0.00 0.00 483.08 98.00\" xmlns=\"http://www.w3.org/2000/svg\" xmlns:xlink=\"http://www.w3.org/1999/xlink\">\n",
       "<g id=\"graph0\" class=\"graph\" transform=\"scale(1 1) rotate(0) translate(4 94)\">\n",
       "<title>G</title>\n",
       "<polygon fill=\"white\" stroke=\"transparent\" points=\"-4,4 -4,-94 479.08,-94 479.08,4 -4,4\"/>\n",
       "<!-- model -->\n",
       "<g id=\"node1\" class=\"node\">\n",
       "<title>model</title>\n",
       "<polygon fill=\"none\" stroke=\"black\" points=\"185.69,-77 117.69,-77 113.69,-73 113.69,-27 181.69,-27 185.69,-31 185.69,-77\"/>\n",
       "<polyline fill=\"none\" stroke=\"black\" points=\"181.69,-73 113.69,-73 \"/>\n",
       "<polyline fill=\"none\" stroke=\"black\" points=\"181.69,-73 181.69,-27 \"/>\n",
       "<polyline fill=\"none\" stroke=\"black\" points=\"181.69,-73 185.69,-77 \"/>\n",
       "<text text-anchor=\"middle\" x=\"149.69\" y=\"-48.3\" font-family=\"Times,serif\" font-size=\"14.00\">model</text>\n",
       "</g>\n",
       "<!-- results -->\n",
       "<g id=\"node3\" class=\"node\">\n",
       "<title>results</title>\n",
       "<ellipse fill=\"none\" stroke=\"black\" cx=\"292.49\" cy=\"-52\" rx=\"33.6\" ry=\"18\"/>\n",
       "<text text-anchor=\"middle\" x=\"292.49\" y=\"-48.3\" font-family=\"Times,serif\" font-size=\"14.00\">results</text>\n",
       "</g>\n",
       "<!-- model&#45;&gt;results -->\n",
       "<g id=\"edge2\" class=\"edge\">\n",
       "<title>model&#45;&gt;results</title>\n",
       "<path fill=\"none\" stroke=\"black\" d=\"M185.86,-52C204.73,-52 228.14,-52 248.13,-52\"/>\n",
       "<polygon fill=\"black\" stroke=\"black\" points=\"248.22,-55.5 258.22,-52 248.22,-48.5 248.22,-55.5\"/>\n",
       "</g>\n",
       "<!-- inputs -->\n",
       "<g id=\"node2\" class=\"node\">\n",
       "<title>inputs</title>\n",
       "<ellipse fill=\"none\" stroke=\"black\" cx=\"38.35\" cy=\"-72\" rx=\"32.49\" ry=\"18\"/>\n",
       "<text text-anchor=\"middle\" x=\"38.35\" y=\"-68.3\" font-family=\"Times,serif\" font-size=\"14.00\">inputs</text>\n",
       "</g>\n",
       "<!-- inputs&#45;&gt;model -->\n",
       "<g id=\"edge1\" class=\"edge\">\n",
       "<title>inputs&#45;&gt;model</title>\n",
       "<path fill=\"none\" stroke=\"black\" d=\"M69.52,-66.48C80.08,-64.55 92.18,-62.34 103.68,-60.23\"/>\n",
       "<polygon fill=\"black\" stroke=\"black\" points=\"104.39,-63.66 113.59,-58.42 103.13,-56.78 104.39,-63.66\"/>\n",
       "</g>\n",
       "<!-- performance -->\n",
       "<g id=\"node5\" class=\"node\">\n",
       "<title>performance</title>\n",
       "<ellipse fill=\"none\" stroke=\"black\" cx=\"419.18\" cy=\"-52\" rx=\"55.79\" ry=\"18\"/>\n",
       "<text text-anchor=\"middle\" x=\"419.18\" y=\"-48.3\" font-family=\"Times,serif\" font-size=\"14.00\">performance</text>\n",
       "</g>\n",
       "<!-- results&#45;&gt;performance -->\n",
       "<g id=\"edge4\" class=\"edge\">\n",
       "<title>results&#45;&gt;performance</title>\n",
       "<path fill=\"none\" stroke=\"black\" d=\"M326.58,-52C334.84,-52 344,-52 353.23,-52\"/>\n",
       "<polygon fill=\"black\" stroke=\"black\" points=\"353.23,-55.5 363.23,-52 353.23,-48.5 353.23,-55.5\"/>\n",
       "</g>\n",
       "<!-- weights -->\n",
       "<g id=\"node4\" class=\"node\">\n",
       "<title>weights</title>\n",
       "<ellipse fill=\"none\" stroke=\"black\" cx=\"38.35\" cy=\"-18\" rx=\"38.19\" ry=\"18\"/>\n",
       "<text text-anchor=\"middle\" x=\"38.35\" y=\"-14.3\" font-family=\"Times,serif\" font-size=\"14.00\">weights</text>\n",
       "</g>\n",
       "<!-- weights&#45;&gt;model -->\n",
       "<g id=\"edge3\" class=\"edge\">\n",
       "<title>weights&#45;&gt;model</title>\n",
       "<path fill=\"none\" stroke=\"black\" d=\"M70.68,-27.74C81.03,-30.96 92.75,-34.61 103.9,-38.07\"/>\n",
       "<polygon fill=\"black\" stroke=\"black\" points=\"102.92,-41.43 113.51,-41.06 105,-34.75 102.92,-41.43\"/>\n",
       "</g>\n",
       "<!-- performance&#45;&gt;weights -->\n",
       "<g id=\"edge5\" class=\"edge\">\n",
       "<title>performance&#45;&gt;weights</title>\n",
       "<path fill=\"none\" stroke=\"black\" d=\"M380.65,-38.79C364.18,-33.57 344.49,-28.08 326.29,-25 242.8,-10.86 143.72,-12.41 86.54,-15.05\"/>\n",
       "<polygon fill=\"black\" stroke=\"black\" points=\"86.17,-11.56 76.36,-15.55 86.52,-18.55 86.17,-11.56\"/>\n",
       "<text text-anchor=\"middle\" x=\"222.19\" y=\"-19.8\" font-family=\"Times,serif\" font-size=\"14.00\">update</text>\n",
       "</g>\n",
       "</g>\n",
       "</svg>\n"
      ],
      "text/plain": [
       "<graphviz.sources.Source at 0x7b9903e49e20>"
      ]
     },
     "execution_count": 6,
     "metadata": {},
     "output_type": "execute_result"
    }
   ],
   "source": [
    "gv('''ordering=in\n",
    "model[shape=box3d width=1 height=0.7]\n",
    "inputs->model->results; weights->model; results->performance\n",
    "performance->weights[constraint=false label=update]''')"
   ]
  },
  {
   "cell_type": "markdown",
   "id": "f5051d0e",
   "metadata": {},
   "source": [
    "#### Gradio . streamlit, and Hugging face spaces for deployment\n",
    "cleaner = ImageClassifierCleaner(learn)\n",
    "SegmentationDataLoader()\n",
    "learn.export()"
   ]
  },
  {
   "cell_type": "code",
   "execution_count": 7,
   "id": "35f2fe43",
   "metadata": {},
   "outputs": [
    {
     "data": {
      "application/vnd.jupyter.widget-view+json": {
       "model_id": "8f865e8c8aef44efad161e3a79c1c814",
       "version_major": 2,
       "version_minor": 0
      },
      "text/plain": [
       "FileUpload(value=(), description='Upload')"
      ]
     },
     "execution_count": 7,
     "metadata": {},
     "output_type": "execute_result"
    }
   ],
   "source": [
    "btn_upload = widgets.FileUpload()\n",
    "btn_upload"
   ]
  },
  {
   "cell_type": "markdown",
   "id": "fd85a039-eff9-408d-be5f-3da36a7464e1",
   "metadata": {},
   "source": [
    "When we have a variable that has many big numbers and many small number, it is better to normalize it by using log that makes it more evenly distributed. \n",
    "\n",
    "## How do we fit a function to data\n",
    "\n"
   ]
  },
  {
   "cell_type": "code",
   "execution_count": 48,
   "id": "c4e8808c-f1cf-45fa-b86f-1c89723e04b9",
   "metadata": {},
   "outputs": [
    {
     "data": {
      "image/png": "[encoded data removed]",
      "text/plain": [
       "<Figure size 600x400 with 1 Axes>"
      ]
     },
     "metadata": {},
     "output_type": "display_data"
    }
   ],
   "source": [
    "def plot_function(f, tx=None, ty=None, title=None, min=-2, max=2, figsize=(6,4)):\n",
    "    x = torch.linspace(min,max, 100)\n",
    "    fig,ax = plt.subplots(figsize=figsize)\n",
    "    ax.plot(x,f(x))\n",
    "    if tx is not None: ax.set_xlabel(tx)\n",
    "    if ty is not None: ax.set_ylabel(ty)\n",
    "    if title is not None: ax.set_title(title)\n",
    "        \n",
    "def f(x): return 3*x**2 + 2*x +1\n",
    "\n",
    "plot_function(f, \"$3x^2 + 2x + 1$\")"
   ]
  },
  {
   "cell_type": "code",
   "execution_count": 49,
   "id": "c5bfcec5-b02b-448c-9262-faf6e90136d4",
   "metadata": {},
   "outputs": [],
   "source": [
    "def quad(a,b,c,x) : return a*x**2 + b*x + c"
   ]
  },
  {
   "cell_type": "code",
   "execution_count": 50,
   "id": "5f83d365-1c50-4540-8047-6281c6991d2f",
   "metadata": {},
   "outputs": [
    {
     "data": {
      "text/plain": [
       "10.75"
      ]
     },
     "execution_count": 50,
     "metadata": {},
     "output_type": "execute_result"
    }
   ],
   "source": [
    "quad(3,2,1,1.5)"
   ]
  },
  {
   "cell_type": "code",
   "execution_count": 51,
   "id": "ea11a84a-85e7-4585-a666-f5249aa4dada",
   "metadata": {},
   "outputs": [],
   "source": [
    "from functools import partial\n",
    "def mk_quad(a,b,c): return partial(quad, a,b,c)"
   ]
  },
  {
   "cell_type": "code",
   "execution_count": 52,
   "id": "7669f3c8-eefa-457f-a3fd-89ce845ed36a",
   "metadata": {},
   "outputs": [
    {
     "data": {
      "text/plain": [
       "10.75"
      ]
     },
     "execution_count": 52,
     "metadata": {},
     "output_type": "execute_result"
    }
   ],
   "source": [
    "f1 = mk_quad(3,2,1)\n",
    "f1(1.5)"
   ]
  },
  {
   "cell_type": "code",
   "execution_count": 53,
   "id": "ba4ee859-1a11-4253-a103-c48eee0496ff",
   "metadata": {},
   "outputs": [
    {
     "data": {
      "image/png": "[encoded data removed]",
      "text/plain": [
       "<Figure size 600x400 with 1 Axes>"
      ]
     },
     "metadata": {},
     "output_type": "display_data"
    }
   ],
   "source": [
    "plot_function(f1, \"$3x^2 + 2x + 1$\")"
   ]
  },
  {
   "cell_type": "code",
   "execution_count": 54,
   "id": "7dc2fb12-445a-469e-b826-b99c4abf0162",
   "metadata": {},
   "outputs": [],
   "source": [
    "from numpy.random import normal, seed, uniform\n",
    "np.random.seed(4)"
   ]
  },
  {
   "cell_type": "code",
   "execution_count": 55,
   "id": "711f2fd5-eba0-4047-955b-8f3ab1a9c973",
   "metadata": {},
   "outputs": [],
   "source": [
    "def noise(x, scale): return normal(scale=scale, size=x.shape)\n",
    "def add_noise(x, mult, add): return x * (1+noise(x, mult)) + noise(x,add)"
   ]
  },
  {
   "cell_type": "code",
   "execution_count": 61,
   "id": "b43747ca-4a22-43ee-bf01-9a699240b826",
   "metadata": {},
   "outputs": [],
   "source": [
    "def mse(preds, acts): return ((preds-acts)**2).mean()"
   ]
  },
  {
   "cell_type": "code",
   "execution_count": 56,
   "id": "cd0cf850-cff8-40e2-b7a1-fa675a9ca5c7",
   "metadata": {},
   "outputs": [
    {
     "data": {
      "text/plain": [
       "<matplotlib.collections.PathCollection at 0x7b9814e6f0d0>"
      ]
     },
     "execution_count": 56,
     "metadata": {},
     "output_type": "execute_result"
    },
    {
     "data": {
      "image/png": "[encoded data removed]",
      "text/plain": [
       "<Figure size 640x480 with 1 Axes>"
      ]
     },
     "metadata": {},
     "output_type": "display_data"
    }
   ],
   "source": [
    "x = torch.linspace(-2,2, steps = 20)[:,None]\n",
    "y = add_noise(f(x), 0.3, 1.5)\n",
    "plt.scatter(x,y)"
   ]
  },
  {
   "cell_type": "code",
   "execution_count": 60,
   "id": "e32daa0e-106d-4e65-81f9-5c8e5dcab3e8",
   "metadata": {},
   "outputs": [
    {
     "data": {
      "application/vnd.jupyter.widget-view+json": {
       "model_id": "cf28ca547d1f44ca91e50b73713971c3",
       "version_major": 2,
       "version_minor": 0
      },
      "text/plain": [
       "interactive(children=(FloatSlider(value=1.5, description='a', max=4.5, min=-1.5), FloatSlider(value=1.5, descr…"
      ]
     },
     "metadata": {},
     "output_type": "display_data"
    }
   ],
   "source": [
    "# !pip install -U ipywidgets\n",
    "\n",
    "from ipywidgets import interact\n",
    "@interact(a=1.5, b = 1.5, c=1.5)\n",
    "def plot_quad(a,b,c):\n",
    "    f= mk_quad(a,b,c)\n",
    "    plt.scatter(x,y)\n",
    "    loss= mse(f(x),y)\n",
    "    plot_function(f,  f\"MSE:{loss:.2f}\")\n",
    "    print(loss)"
   ]
  },
  {
   "cell_type": "markdown",
   "id": "f567d197-4bb9-4517-b176-80890715e5e3",
   "metadata": {},
   "source": [
    "# Derivetive\n",
    "\n",
    "Instead of manually optimizing the function we can use the derivative instead"
   ]
  },
  {
   "cell_type": "code",
   "execution_count": 62,
   "id": "8698e36f-bc6d-42f9-aa2e-b134c1e77f56",
   "metadata": {},
   "outputs": [],
   "source": [
    "def quad_mse(params):\n",
    "    f = mk_quad(*params) # star means that expand the list into parameters to the function\n",
    "    return mse(f(x),y)"
   ]
  },
  {
   "cell_type": "code",
   "execution_count": 64,
   "id": "0d45e44e-60a6-487c-8f97-b33c43238a03",
   "metadata": {},
   "outputs": [
    {
     "data": {
      "text/plain": [
       "tensor(17.9853, dtype=torch.float64)"
      ]
     },
     "execution_count": 64,
     "metadata": {},
     "output_type": "execute_result"
    }
   ],
   "source": [
    "quad_mse([1.5,1.5,1.5])"
   ]
  },
  {
   "cell_type": "code",
   "execution_count": 65,
   "id": "ee059e13-939c-48b9-9299-b9ee8b9344b6",
   "metadata": {},
   "outputs": [
    {
     "data": {
      "text/plain": [
       "tensor([1.5000, 1.5000, 1.5000], requires_grad=True)"
      ]
     },
     "execution_count": 65,
     "metadata": {},
     "output_type": "execute_result"
    }
   ],
   "source": [
    "abc = torch.tensor([1.5, 1.5, 1.5])\n",
    "abc.requires_grad_()  # calculate the gradient everytime you use abc"
   ]
  },
  {
   "cell_type": "code",
   "execution_count": 66,
   "id": "bbb1219c-5a95-4bef-82a6-07162dc38e82",
   "metadata": {},
   "outputs": [
    {
     "data": {
      "text/plain": [
       "tensor(17.9853, dtype=torch.float64, grad_fn=<MeanBackward0>)"
      ]
     },
     "execution_count": 66,
     "metadata": {},
     "output_type": "execute_result"
    }
   ],
   "source": [
    "loss = quad_mse(abc) # abc is used, and therefore the gradient is calulated\n",
    "loss"
   ]
  },
  {
   "cell_type": "markdown",
   "id": "7d6ec410-1df7-4643-b894-25f1b5096b18",
   "metadata": {},
   "source": [
    "`grad_fn=<MeanBackward0>)` means that if we want pytorch knows how to calculate the gradients by calling this function. We can call backward() to actually calculate this.\n"
   ]
  },
  {
   "cell_type": "code",
   "execution_count": 67,
   "id": "e89a038d-e77c-4257-9734-03d7e9e896d3",
   "metadata": {},
   "outputs": [],
   "source": [
    "loss.backward()"
   ]
  },
  {
   "cell_type": "code",
   "execution_count": 69,
   "id": "f9b60194-2203-4f97-9dbd-97dad7bab28f",
   "metadata": {},
   "outputs": [
    {
     "data": {
      "text/plain": [
       "tensor([-13.1814,  -3.1525,  -4.3421])"
      ]
     },
     "execution_count": 69,
     "metadata": {},
     "output_type": "execute_result"
    }
   ],
   "source": [
    "abc.grad"
   ]
  },
  {
   "cell_type": "markdown",
   "id": "9d250201-0775-4709-9d1e-582ef7f4c087",
   "metadata": {},
   "source": [
    "negative value for \"a\" means that if increase \"a\", the loss goes down\n"
   ]
  },
  {
   "cell_type": "markdown",
   "id": "2732332d-48c3-4a0e-938f-0eb3ef5b85f0",
   "metadata": {},
   "source": [
    "Here we don't want to have the derivatives:"
   ]
  },
  {
   "cell_type": "code",
   "execution_count": 71,
   "id": "269fd804-04ad-4cd0-8641-e4f30af00ff6",
   "metadata": {},
   "outputs": [
    {
     "name": "stdout",
     "output_type": "stream",
     "text": [
      "loss= 16.05\n"
     ]
    }
   ],
   "source": [
    "with torch.no_grad():\n",
    "    abc -= abc.grad * 0.01 # 0.01 is probably the learning rate!?\n",
    "    loss = quad_mse(abc)\n",
    "\n",
    "print(f'loss= {loss:.2f}')"
   ]
  },
  {
   "cell_type": "code",
   "execution_count": 75,
   "id": "61ebc8d2-fbc3-4fcd-89c6-5fbe38216d5b",
   "metadata": {},
   "outputs": [
    {
     "name": "stdout",
     "output_type": "stream",
     "text": [
      "loss= 7.21\n",
      "loss= 9.70\n",
      "loss= 12.92\n",
      "loss= 15.74\n",
      "loss= 17.15\n"
     ]
    }
   ],
   "source": [
    "for i in range(5):\n",
    "    loss = quad_mse(abc)\n",
    "    loss.backward()\n",
    "    with torch.no_grad(): abc -= abc.grad*0.01\n",
    "    print(f'loss= {loss:.2f}')"
   ]
  },
  {
   "cell_type": "markdown",
   "id": "416727d7-bf78-431d-acc3-396be71793c4",
   "metadata": {},
   "source": [
    "The loss goes down (optimization)...\n",
    "# ReLu (Rectified Linear)\n"
   ]
  },
  {
   "cell_type": "code",
   "execution_count": 84,
   "id": "e0628124-e8bb-440a-93ec-d0c544555acb",
   "metadata": {},
   "outputs": [
    {
     "data": {
      "image/png": "[encoded data removed]",
      "text/plain": [
       "<Figure size 600x400 with 1 Axes>"
      ]
     },
     "metadata": {},
     "output_type": "display_data"
    }
   ],
   "source": [
    "\n",
    "def rectified_linear(m,b,x):\n",
    "    y = m*x +b\n",
    "    return torch.clip(y, 0.)\n",
    "\n",
    "plot_function(partial(rectified_linear, 1,1))"
   ]
  },
  {
   "cell_type": "code",
   "execution_count": 85,
   "id": "7a06bab4-649f-47de-938a-39c9cb93f31d",
   "metadata": {},
   "outputs": [
    {
     "data": {
      "application/vnd.jupyter.widget-view+json": {
       "model_id": "86e894ebb41e45428383a018db311552",
       "version_major": 2,
       "version_minor": 0
      },
      "text/plain": [
       "interactive(children=(FloatSlider(value=1.5, description='m', max=4.5, min=-1.5), FloatSlider(value=1.5, descr…"
      ]
     },
     "metadata": {},
     "output_type": "display_data"
    }
   ],
   "source": [
    "@interact(m=1.5, b = 1.5)\n",
    "def plot_relu(m,b):\n",
    "    plot_function(partial(rectified_linear, m,b))"
   ]
  },
  {
   "cell_type": "markdown",
   "id": "740382fd-fa77-48ea-bf18-091dc8f1429f",
   "metadata": {
    "jupyter": {
     "source_hidden": true
    }
   },
   "source": [
    "We can stack up ReLus to build different shapes "
   ]
  },
  {
   "cell_type": "code",
   "execution_count": 87,
   "id": "e8c6e345-e9b5-4cfd-bea1-07546d492f32",
   "metadata": {},
   "outputs": [
    {
     "data": {
      "application/vnd.jupyter.widget-view+json": {
       "model_id": "7e25213110d044599fc12e706de26d5b",
       "version_major": 2,
       "version_minor": 0
      },
      "text/plain": [
       "interactive(children=(FloatSlider(value=1.5, description='m1', max=4.5, min=-1.5), FloatSlider(value=-1.5, des…"
      ]
     },
     "metadata": {},
     "output_type": "display_data"
    }
   ],
   "source": [
    "def double_relu(m1,b1, m2,b2,x):\n",
    "    return rectified_linear(m1,b1,x)+rectified_linear(m2,b2,x)\n",
    "@interact(m1=1.5, b1 = -1.5, m2=1.5, b2 = 1.5)\n",
    "def plot_double_relu(m1,b1, m2,b2):\n",
    "    plot_function(partial(double_relu, m1,b1, m2, b2))"
   ]
  },
  {
   "cell_type": "code",
   "execution_count": null,
   "id": "c7df070f-8297-40cd-8fe3-58b3eb2be2db",
   "metadata": {},
   "outputs": [],
   "source": []
  }
 ],
 "metadata": {
  "kernelspec": {
   "display_name": "Python 3 (ipykernel)",
   "language": "python",
   "name": "python3"
  },
  "language_info": {
   "codemirror_mode": {
    "name": "ipython",
    "version": 3
   },
   "file_extension": ".py",
   "mimetype": "text/x-python",
   "name": "python",
   "nbconvert_exporter": "python",
   "pygments_lexer": "ipython3",
   "version": "3.9.16"
  }
 },
 "nbformat": 4,
 "nbformat_minor": 5
}
