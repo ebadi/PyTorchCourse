{
 "cells": [
  {
   "cell_type": "markdown",
   "id": "3caa3a4a",
   "metadata": {},
   "source": [
    "# Stock prediction\n",
    "\n",
    "Important things to be careful of:\n",
    "    - Single steo predition vs Multi step prediction\n",
    "    - Make sure that train data is not mixed with the test data\n",
    "    - It is easy to fool yourself that you are predicting future but basically you are guessing the previous value (or close to it)\n",
    "    \n",
    "\n",
    "- Establishing a baseline approach is important (e.g. prediciting the previous value)\n",
    "- Make sure that the test loss is getting lower\n",
    "- The worse accuracy is 0.5 otherwise we can reverse the decision\n",
    "- One can forecast multiple steps in future by passing Y_hats to the dense layer\n",
    "- Doing the return prediction instead of price prediciotn makes more sense (return = percent of change in price)\n",
    "- Doing bianry classification predicting whether price goes up or down is easier (isntead of how much)\n"
   ]
  },
  {
   "cell_type": "code",
   "execution_count": null,
   "id": "f2605546",
   "metadata": {},
   "outputs": [],
   "source": []
  }
 ],
 "metadata": {
  "kernelspec": {
   "display_name": "Python 3 (ipykernel)",
   "language": "python",
   "name": "python3"
  },
  "language_info": {
   "codemirror_mode": {
    "name": "ipython",
    "version": 3
   },
   "file_extension": ".py",
   "mimetype": "text/x-python",
   "name": "python",
   "nbconvert_exporter": "python",
   "pygments_lexer": "ipython3",
   "version": "3.10.12"
  }
 },
 "nbformat": 4,
 "nbformat_minor": 5
}
