{
 "cells": [
  {
   "cell_type": "markdown",
   "id": "330a69e7",
   "metadata": {},
   "source": [
    "### RNN for image classification\n",
    "\n",
    "Since images are 2D, we can simply pretend an image is a time series."
   ]
  },
  {
   "cell_type": "code",
   "execution_count": 1,
   "id": "c68f744e",
   "metadata": {},
   "outputs": [],
   "source": [
    "import torch\n",
    "import torch.nn as nn\n",
    "import torchvision\n",
    "import torch.nn.functional as F\n",
    "import torchvision.transforms as transforms\n",
    "import numpy as np\n",
    "import matplotlib.pyplot as pt\n",
    "from datetime import datetime\n",
    "\n",
    "train_dataset = torchvision.datasets.MNIST(root='.', train=True, transform= transforms.ToTensor(), download=True)\n",
    "test_dataset = torchvision.datasets.MNIST(root='.', train=False, transform= transforms.ToTensor(), download=True)\n",
    "\n",
    "batch_size = 128\n",
    "\n",
    "train_loader = torch.utils.data.DataLoader(dataset=train_dataset, batch_size=batch_size, shuffle=True)\n",
    "test_loader = torch.utils.data.DataLoader(dataset=test_dataset, batch_size=batch_size, shuffle=False)"
   ]
  },
  {
   "cell_type": "code",
   "execution_count": 2,
   "id": "6e804feb",
   "metadata": {},
   "outputs": [],
   "source": [
    "class RNN(nn.Module):\n",
    "    def __init__(self, n_inputs, n_hidden, n_rnnlayers, n_outputs):\n",
    "        super(RNN, self).__init__()\n",
    "        self.D = n_inputs\n",
    "        self.M = n_hidden \n",
    "        self.K = n_outputs\n",
    "        self.L = n_rnnlayers\n",
    "        self.rnn = nn.LSTM(\n",
    "            input_size = self.D,\n",
    "            hidden_size= self.M,\n",
    "            num_layers = self.L,\n",
    "            batch_first = True)\n",
    "        self.fc = nn.Linear(self.M, self.K)\n",
    "    def forward(self, X):\n",
    "        h0 = torch.zeros(self.L, X.size(0), self.M).to(device)\n",
    "        c0 = torch.zeros(self.L, X.size(0), self.M).to(device)\n",
    "\n",
    "        out, _ = self.rnn(X, (h0,c0))\n",
    "        out = self.fc(out[:, -1, :])\n",
    "        return out"
   ]
  },
  {
   "cell_type": "code",
   "execution_count": 3,
   "id": "9ba391fc",
   "metadata": {},
   "outputs": [],
   "source": [
    "model= RNN(28,128,2,10)"
   ]
  },
  {
   "cell_type": "code",
   "execution_count": 4,
   "id": "24c3bc74",
   "metadata": {},
   "outputs": [
    {
     "name": "stdout",
     "output_type": "stream",
     "text": [
      "cuda:0\n"
     ]
    },
    {
     "data": {
      "text/plain": [
       "RNN(\n",
       "  (rnn): LSTM(28, 128, num_layers=2, batch_first=True)\n",
       "  (fc): Linear(in_features=128, out_features=10, bias=True)\n",
       ")"
      ]
     },
     "execution_count": 4,
     "metadata": {},
     "output_type": "execute_result"
    }
   ],
   "source": [
    "device = torch.device(\"cuda:0\" if torch.cuda.is_available() else \"cpu\")\n",
    "print(device)\n",
    "model.to(device)"
   ]
  },
  {
   "cell_type": "code",
   "execution_count": 5,
   "id": "043960f0",
   "metadata": {},
   "outputs": [],
   "source": [
    "criterion = nn.CrossEntropyLoss()\n",
    "optimizer = torch.optim.Adam(model.parameters())"
   ]
  },
  {
   "cell_type": "code",
   "execution_count": 6,
   "id": "de5df908",
   "metadata": {},
   "outputs": [
    {
     "name": "stdout",
     "output_type": "stream",
     "text": [
      "Epoch 1/10, Train Loss 0.5855, Test Loss 0.1899\n",
      "Epoch 2/10, Train Loss 0.1336, Test Loss 0.1001\n",
      "Epoch 3/10, Train Loss 0.0819, Test Loss 0.0728\n",
      "Epoch 4/10, Train Loss 0.0619, Test Loss 0.0599\n",
      "Epoch 5/10, Train Loss 0.0481, Test Loss 0.0620\n",
      "Epoch 6/10, Train Loss 0.0426, Test Loss 0.0516\n",
      "Epoch 7/10, Train Loss 0.0374, Test Loss 0.0420\n",
      "Epoch 8/10, Train Loss 0.0310, Test Loss 0.0423\n",
      "Epoch 9/10, Train Loss 0.0290, Test Loss 0.0493\n",
      "Epoch 10/10, Train Loss 0.0247, Test Loss 0.0446\n"
     ]
    }
   ],
   "source": [
    "n_epochs = 10\n",
    "train_losses = np.zeros(n_epochs)\n",
    "test_losses = np.zeros(n_epochs)\n",
    "for it in range(n_epochs):\n",
    "    train_loss = []\n",
    "    for inputs,targets in train_loader:\n",
    "      inputs, targets = inputs.to(device), targets.to(device)\n",
    "      inputs = inputs.view(-1, 28, 28)\n",
    "      optimizer.zero_grad()\n",
    "      outputs = model(inputs)\n",
    "      loss = criterion(outputs, targets)\n",
    "      loss.backward()\n",
    "      optimizer.step()\n",
    "      train_loss.append(loss.item())\n",
    "    train_loss = np.mean(train_loss)\n",
    "    \n",
    "    test_loss = []\n",
    "    for inputs,targets in test_loader:\n",
    "      inputs, targets = inputs.to(device), targets.to(device)\n",
    "      inputs = inputs.view(-1, 28, 28)\n",
    "      outputs = model(inputs)\n",
    "      loss = criterion(outputs, targets)\n",
    "      test_loss.append(loss.item())\n",
    "    test_loss = np.mean(test_loss)\n",
    "    \n",
    "    train_losses[it] = train_loss\n",
    "    test_losses[it] = test_loss\n",
    "    \n",
    "    \n",
    "    print(f'Epoch {it+1}/{n_epochs}, Train Loss {train_loss:.4f}, Test Loss {test_loss:.4f}')"
   ]
  },
  {
   "cell_type": "code",
   "execution_count": 7,
   "id": "dac011e0",
   "metadata": {},
   "outputs": [
    {
     "data": {
      "image/png": "[encoded data removed]",
      "text/plain": [
       "<Figure size 640x480 with 1 Axes>"
      ]
     },
     "metadata": {},
     "output_type": "display_data"
    }
   ],
   "source": [
    "import matplotlib.pyplot as plt\n",
    "plt.plot(train_losses, label = \"train loss\")\n",
    "plt.plot(test_losses, label = \"test loss\")\n",
    "plt.legend()\n",
    "plt.show()"
   ]
  },
  {
   "cell_type": "code",
   "execution_count": null,
   "id": "3503633a",
   "metadata": {},
   "outputs": [],
   "source": []
  }
 ],
 "metadata": {
  "kernelspec": {
   "display_name": "Python 3 (ipykernel)",
   "language": "python",
   "name": "python3"
  },
  "language_info": {
   "codemirror_mode": {
    "name": "ipython",
    "version": 3
   },
   "file_extension": ".py",
   "mimetype": "text/x-python",
   "name": "python",
   "nbconvert_exporter": "python",
   "pygments_lexer": "ipython3",
   "version": "3.10.12"
  }
 },
 "nbformat": 4,
 "nbformat_minor": 5
}
